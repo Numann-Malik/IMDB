{
 "cells": [
  {
   "cell_type": "markdown",
   "id": "1b0b5c6c",
   "metadata": {},
   "source": [
    "# Using glob to load many files"
   ]
  },
  {
   "cell_type": "code",
   "execution_count": 1,
   "id": "266e4a06",
   "metadata": {},
   "outputs": [],
   "source": [
    "# Import relevant libraries\n",
    "import pandas as pd\n",
    "import numpy as np\n",
    "import matplotlib.pyplot as plt\n",
    "import seaborn as sns\n",
    "import scipy.stats as stats\n",
    "import glob"
   ]
  },
  {
   "cell_type": "code",
   "execution_count": 2,
   "id": "1a465884",
   "metadata": {},
   "outputs": [
    {
     "data": {
      "text/plain": [
       "['Data/final_tmdb_data_2000.csv',\n",
       " 'Data/final_tmdb_data_2001.csv',\n",
       " 'Data/final_tmdb_data_2002.csv',\n",
       " 'Data/final_tmdb_data_2003.csv',\n",
       " 'Data/final_tmdb_data_2004.csv',\n",
       " 'Data/final_tmdb_data_2005.csv',\n",
       " 'Data/final_tmdb_data_2006.csv',\n",
       " 'Data/final_tmdb_data_2007.csv',\n",
       " 'Data/final_tmdb_data_2008.csv',\n",
       " 'Data/final_tmdb_data_2009.csv',\n",
       " 'Data/final_tmdb_data_2010.csv',\n",
       " 'Data/final_tmdb_data_2011.csv',\n",
       " 'Data/final_tmdb_data_2012.csv',\n",
       " 'Data/final_tmdb_data_2013.csv',\n",
       " 'Data/final_tmdb_data_2014.csv',\n",
       " 'Data/final_tmdb_data_2015.csv',\n",
       " 'Data/final_tmdb_data_2016.csv',\n",
       " 'Data/final_tmdb_data_2017.csv',\n",
       " 'Data/final_tmdb_data_2018.csv',\n",
       " 'Data/final_tmdb_data_2019.csv',\n",
       " 'Data/final_tmdb_data_2020.csv',\n",
       " 'Data/final_tmdb_data_2021.csv']"
      ]
     },
     "execution_count": 2,
     "metadata": {},
     "output_type": "execute_result"
    }
   ],
   "source": [
    "# Recursive query - extra /**/ added to string\n",
    "q = \"Data/**/final_tmdb_data*.csv\" \n",
    "chunked_files = sorted(glob.glob(q, recursive=True))\n",
    "chunked_files"
   ]
  },
  {
   "cell_type": "code",
   "execution_count": 3,
   "id": "a88fd0a2",
   "metadata": {},
   "outputs": [
    {
     "data": {
      "text/html": [
       "<div>\n",
       "<style scoped>\n",
       "    .dataframe tbody tr th:only-of-type {\n",
       "        vertical-align: middle;\n",
       "    }\n",
       "\n",
       "    .dataframe tbody tr th {\n",
       "        vertical-align: top;\n",
       "    }\n",
       "\n",
       "    .dataframe thead th {\n",
       "        text-align: right;\n",
       "    }\n",
       "</style>\n",
       "<table border=\"1\" class=\"dataframe\">\n",
       "  <thead>\n",
       "    <tr style=\"text-align: right;\">\n",
       "      <th></th>\n",
       "      <th>imdb_id</th>\n",
       "      <th>adult</th>\n",
       "      <th>backdrop_path</th>\n",
       "      <th>belongs_to_collection</th>\n",
       "      <th>budget</th>\n",
       "      <th>genres</th>\n",
       "      <th>homepage</th>\n",
       "      <th>id</th>\n",
       "      <th>original_language</th>\n",
       "      <th>original_title</th>\n",
       "      <th>...</th>\n",
       "      <th>revenue</th>\n",
       "      <th>runtime</th>\n",
       "      <th>spoken_languages</th>\n",
       "      <th>status</th>\n",
       "      <th>tagline</th>\n",
       "      <th>title</th>\n",
       "      <th>video</th>\n",
       "      <th>vote_average</th>\n",
       "      <th>vote_count</th>\n",
       "      <th>certification</th>\n",
       "    </tr>\n",
       "  </thead>\n",
       "  <tbody>\n",
       "    <tr>\n",
       "      <th>0</th>\n",
       "      <td>0</td>\n",
       "      <td>NaN</td>\n",
       "      <td>NaN</td>\n",
       "      <td>NaN</td>\n",
       "      <td>NaN</td>\n",
       "      <td>NaN</td>\n",
       "      <td>NaN</td>\n",
       "      <td>NaN</td>\n",
       "      <td>NaN</td>\n",
       "      <td>NaN</td>\n",
       "      <td>...</td>\n",
       "      <td>NaN</td>\n",
       "      <td>NaN</td>\n",
       "      <td>NaN</td>\n",
       "      <td>NaN</td>\n",
       "      <td>NaN</td>\n",
       "      <td>NaN</td>\n",
       "      <td>NaN</td>\n",
       "      <td>NaN</td>\n",
       "      <td>NaN</td>\n",
       "      <td>NaN</td>\n",
       "    </tr>\n",
       "    <tr>\n",
       "      <th>1</th>\n",
       "      <td>tt0113026</td>\n",
       "      <td>0.0</td>\n",
       "      <td>/vMFs7nw6P0bIV1jDsQpxAieAVnH.jpg</td>\n",
       "      <td>NaN</td>\n",
       "      <td>10000000.0</td>\n",
       "      <td>[{'id': 35, 'name': 'Comedy'}, {'id': 10402, '...</td>\n",
       "      <td>NaN</td>\n",
       "      <td>62127.0</td>\n",
       "      <td>en</td>\n",
       "      <td>The Fantasticks</td>\n",
       "      <td>...</td>\n",
       "      <td>0.0</td>\n",
       "      <td>86.0</td>\n",
       "      <td>[{'english_name': 'English', 'iso_639_1': 'en'...</td>\n",
       "      <td>Released</td>\n",
       "      <td>Try to remember the first time magic happened</td>\n",
       "      <td>The Fantasticks</td>\n",
       "      <td>0.0</td>\n",
       "      <td>5.4</td>\n",
       "      <td>21.0</td>\n",
       "      <td>NaN</td>\n",
       "    </tr>\n",
       "    <tr>\n",
       "      <th>2</th>\n",
       "      <td>tt0113092</td>\n",
       "      <td>0.0</td>\n",
       "      <td>NaN</td>\n",
       "      <td>NaN</td>\n",
       "      <td>0.0</td>\n",
       "      <td>[{'id': 878, 'name': 'Science Fiction'}]</td>\n",
       "      <td>NaN</td>\n",
       "      <td>110977.0</td>\n",
       "      <td>en</td>\n",
       "      <td>For the Cause</td>\n",
       "      <td>...</td>\n",
       "      <td>0.0</td>\n",
       "      <td>100.0</td>\n",
       "      <td>[{'english_name': 'English', 'iso_639_1': 'en'...</td>\n",
       "      <td>Released</td>\n",
       "      <td>The ultimate showdown on a forbidden planet.</td>\n",
       "      <td>For the Cause</td>\n",
       "      <td>0.0</td>\n",
       "      <td>4.4</td>\n",
       "      <td>7.0</td>\n",
       "      <td>NaN</td>\n",
       "    </tr>\n",
       "    <tr>\n",
       "      <th>3</th>\n",
       "      <td>tt0116391</td>\n",
       "      <td>0.0</td>\n",
       "      <td>NaN</td>\n",
       "      <td>NaN</td>\n",
       "      <td>0.0</td>\n",
       "      <td>[{'id': 18, 'name': 'Drama'}, {'id': 28, 'name...</td>\n",
       "      <td>NaN</td>\n",
       "      <td>442869.0</td>\n",
       "      <td>hi</td>\n",
       "      <td>Gang</td>\n",
       "      <td>...</td>\n",
       "      <td>0.0</td>\n",
       "      <td>152.0</td>\n",
       "      <td>[{'english_name': 'Hindi', 'iso_639_1': 'hi', ...</td>\n",
       "      <td>Released</td>\n",
       "      <td>NaN</td>\n",
       "      <td>Gang</td>\n",
       "      <td>0.0</td>\n",
       "      <td>0.0</td>\n",
       "      <td>0.0</td>\n",
       "      <td>NaN</td>\n",
       "    </tr>\n",
       "    <tr>\n",
       "      <th>4</th>\n",
       "      <td>tt0118694</td>\n",
       "      <td>0.0</td>\n",
       "      <td>/n4GJFGzsc7NinI1VeGDXIcQjtU2.jpg</td>\n",
       "      <td>NaN</td>\n",
       "      <td>150000.0</td>\n",
       "      <td>[{'id': 18, 'name': 'Drama'}, {'id': 10749, 'n...</td>\n",
       "      <td>http://www.wkw-inthemoodforlove.com/</td>\n",
       "      <td>843.0</td>\n",
       "      <td>cn</td>\n",
       "      <td>花樣年華</td>\n",
       "      <td>...</td>\n",
       "      <td>12854953.0</td>\n",
       "      <td>99.0</td>\n",
       "      <td>[{'english_name': 'Cantonese', 'iso_639_1': 'c...</td>\n",
       "      <td>Released</td>\n",
       "      <td>Feel the heat, keep the feeling burning, let t...</td>\n",
       "      <td>In the Mood for Love</td>\n",
       "      <td>0.0</td>\n",
       "      <td>8.1</td>\n",
       "      <td>1868.0</td>\n",
       "      <td>PG</td>\n",
       "    </tr>\n",
       "    <tr>\n",
       "      <th>...</th>\n",
       "      <td>...</td>\n",
       "      <td>...</td>\n",
       "      <td>...</td>\n",
       "      <td>...</td>\n",
       "      <td>...</td>\n",
       "      <td>...</td>\n",
       "      <td>...</td>\n",
       "      <td>...</td>\n",
       "      <td>...</td>\n",
       "      <td>...</td>\n",
       "      <td>...</td>\n",
       "      <td>...</td>\n",
       "      <td>...</td>\n",
       "      <td>...</td>\n",
       "      <td>...</td>\n",
       "      <td>...</td>\n",
       "      <td>...</td>\n",
       "      <td>...</td>\n",
       "      <td>...</td>\n",
       "      <td>...</td>\n",
       "      <td>...</td>\n",
       "    </tr>\n",
       "    <tr>\n",
       "      <th>3528</th>\n",
       "      <td>tt9895024</td>\n",
       "      <td>0.0</td>\n",
       "      <td>/S1kutYyoyuBJKGS0mXxv2fZNbr.jpg</td>\n",
       "      <td>NaN</td>\n",
       "      <td>0.0</td>\n",
       "      <td>[{'id': 18, 'name': 'Drama'}, {'id': 35, 'name...</td>\n",
       "      <td>NaN</td>\n",
       "      <td>834443.0</td>\n",
       "      <td>de</td>\n",
       "      <td>Heikos Welt</td>\n",
       "      <td>...</td>\n",
       "      <td>0.0</td>\n",
       "      <td>118.0</td>\n",
       "      <td>[{'english_name': 'German', 'iso_639_1': 'de',...</td>\n",
       "      <td>Released</td>\n",
       "      <td>NaN</td>\n",
       "      <td>Heiko's World</td>\n",
       "      <td>0.0</td>\n",
       "      <td>0.0</td>\n",
       "      <td>0.0</td>\n",
       "      <td>NaN</td>\n",
       "    </tr>\n",
       "    <tr>\n",
       "      <th>3529</th>\n",
       "      <td>tt9896876</td>\n",
       "      <td>0.0</td>\n",
       "      <td>/hMvRbT6HOqERhh3K8kXbaLz9LlZ.jpg</td>\n",
       "      <td>NaN</td>\n",
       "      <td>0.0</td>\n",
       "      <td>[{'id': 35, 'name': 'Comedy'}, {'id': 18, 'nam...</td>\n",
       "      <td>NaN</td>\n",
       "      <td>821493.0</td>\n",
       "      <td>en</td>\n",
       "      <td>India Sweets and Spices</td>\n",
       "      <td>...</td>\n",
       "      <td>0.0</td>\n",
       "      <td>101.0</td>\n",
       "      <td>[{'english_name': 'English', 'iso_639_1': 'en'...</td>\n",
       "      <td>Released</td>\n",
       "      <td>Let the aunties talk.</td>\n",
       "      <td>India Sweets and Spices</td>\n",
       "      <td>0.0</td>\n",
       "      <td>6.0</td>\n",
       "      <td>2.0</td>\n",
       "      <td>PG-13</td>\n",
       "    </tr>\n",
       "    <tr>\n",
       "      <th>3530</th>\n",
       "      <td>tt9898844</td>\n",
       "      <td>0.0</td>\n",
       "      <td>/q2KFBGyUSzHDhNqXEYv2LqTWVSz.jpg</td>\n",
       "      <td>NaN</td>\n",
       "      <td>0.0</td>\n",
       "      <td>[{'id': 27, 'name': 'Horror'}]</td>\n",
       "      <td>NaN</td>\n",
       "      <td>870671.0</td>\n",
       "      <td>en</td>\n",
       "      <td>The Hunting</td>\n",
       "      <td>...</td>\n",
       "      <td>0.0</td>\n",
       "      <td>91.0</td>\n",
       "      <td>[{'english_name': 'English', 'iso_639_1': 'en'...</td>\n",
       "      <td>Released</td>\n",
       "      <td>Hunger runs deep.</td>\n",
       "      <td>The Hunting</td>\n",
       "      <td>0.0</td>\n",
       "      <td>4.9</td>\n",
       "      <td>20.0</td>\n",
       "      <td>NaN</td>\n",
       "    </tr>\n",
       "    <tr>\n",
       "      <th>3531</th>\n",
       "      <td>tt9900940</td>\n",
       "      <td>0.0</td>\n",
       "      <td>/3jjWLg5bevWqReyVroYqxwVrH0k.jpg</td>\n",
       "      <td>NaN</td>\n",
       "      <td>0.0</td>\n",
       "      <td>[{'id': 80, 'name': 'Crime'}, {'id': 18, 'name...</td>\n",
       "      <td>NaN</td>\n",
       "      <td>861294.0</td>\n",
       "      <td>en</td>\n",
       "      <td>The Scrapper</td>\n",
       "      <td>...</td>\n",
       "      <td>0.0</td>\n",
       "      <td>87.0</td>\n",
       "      <td>[{'english_name': 'English', 'iso_639_1': 'en'...</td>\n",
       "      <td>Released</td>\n",
       "      <td>You can't escape your past.</td>\n",
       "      <td>The Scrapper</td>\n",
       "      <td>0.0</td>\n",
       "      <td>6.0</td>\n",
       "      <td>2.0</td>\n",
       "      <td>NaN</td>\n",
       "    </tr>\n",
       "    <tr>\n",
       "      <th>3532</th>\n",
       "      <td>tt9907782</td>\n",
       "      <td>0.0</td>\n",
       "      <td>/gRTYArznK1MLAq7opC1tYHnTwM3.jpg</td>\n",
       "      <td>NaN</td>\n",
       "      <td>0.0</td>\n",
       "      <td>[{'id': 27, 'name': 'Horror'}, {'id': 14, 'nam...</td>\n",
       "      <td>NaN</td>\n",
       "      <td>630392.0</td>\n",
       "      <td>en</td>\n",
       "      <td>The Cursed</td>\n",
       "      <td>...</td>\n",
       "      <td>4588389.0</td>\n",
       "      <td>111.0</td>\n",
       "      <td>[{'english_name': 'English', 'iso_639_1': 'en'...</td>\n",
       "      <td>Released</td>\n",
       "      <td>NaN</td>\n",
       "      <td>The Cursed</td>\n",
       "      <td>0.0</td>\n",
       "      <td>7.0</td>\n",
       "      <td>55.0</td>\n",
       "      <td>R</td>\n",
       "    </tr>\n",
       "  </tbody>\n",
       "</table>\n",
       "<p>60152 rows × 26 columns</p>\n",
       "</div>"
      ],
      "text/plain": [
       "        imdb_id  adult                     backdrop_path  \\\n",
       "0             0    NaN                               NaN   \n",
       "1     tt0113026    0.0  /vMFs7nw6P0bIV1jDsQpxAieAVnH.jpg   \n",
       "2     tt0113092    0.0                               NaN   \n",
       "3     tt0116391    0.0                               NaN   \n",
       "4     tt0118694    0.0  /n4GJFGzsc7NinI1VeGDXIcQjtU2.jpg   \n",
       "...         ...    ...                               ...   \n",
       "3528  tt9895024    0.0   /S1kutYyoyuBJKGS0mXxv2fZNbr.jpg   \n",
       "3529  tt9896876    0.0  /hMvRbT6HOqERhh3K8kXbaLz9LlZ.jpg   \n",
       "3530  tt9898844    0.0  /q2KFBGyUSzHDhNqXEYv2LqTWVSz.jpg   \n",
       "3531  tt9900940    0.0  /3jjWLg5bevWqReyVroYqxwVrH0k.jpg   \n",
       "3532  tt9907782    0.0  /gRTYArznK1MLAq7opC1tYHnTwM3.jpg   \n",
       "\n",
       "     belongs_to_collection      budget  \\\n",
       "0                      NaN         NaN   \n",
       "1                      NaN  10000000.0   \n",
       "2                      NaN         0.0   \n",
       "3                      NaN         0.0   \n",
       "4                      NaN    150000.0   \n",
       "...                    ...         ...   \n",
       "3528                   NaN         0.0   \n",
       "3529                   NaN         0.0   \n",
       "3530                   NaN         0.0   \n",
       "3531                   NaN         0.0   \n",
       "3532                   NaN         0.0   \n",
       "\n",
       "                                                 genres  \\\n",
       "0                                                   NaN   \n",
       "1     [{'id': 35, 'name': 'Comedy'}, {'id': 10402, '...   \n",
       "2              [{'id': 878, 'name': 'Science Fiction'}]   \n",
       "3     [{'id': 18, 'name': 'Drama'}, {'id': 28, 'name...   \n",
       "4     [{'id': 18, 'name': 'Drama'}, {'id': 10749, 'n...   \n",
       "...                                                 ...   \n",
       "3528  [{'id': 18, 'name': 'Drama'}, {'id': 35, 'name...   \n",
       "3529  [{'id': 35, 'name': 'Comedy'}, {'id': 18, 'nam...   \n",
       "3530                     [{'id': 27, 'name': 'Horror'}]   \n",
       "3531  [{'id': 80, 'name': 'Crime'}, {'id': 18, 'name...   \n",
       "3532  [{'id': 27, 'name': 'Horror'}, {'id': 14, 'nam...   \n",
       "\n",
       "                                  homepage        id original_language  \\\n",
       "0                                      NaN       NaN               NaN   \n",
       "1                                      NaN   62127.0                en   \n",
       "2                                      NaN  110977.0                en   \n",
       "3                                      NaN  442869.0                hi   \n",
       "4     http://www.wkw-inthemoodforlove.com/     843.0                cn   \n",
       "...                                    ...       ...               ...   \n",
       "3528                                   NaN  834443.0                de   \n",
       "3529                                   NaN  821493.0                en   \n",
       "3530                                   NaN  870671.0                en   \n",
       "3531                                   NaN  861294.0                en   \n",
       "3532                                   NaN  630392.0                en   \n",
       "\n",
       "               original_title  ...     revenue  runtime  \\\n",
       "0                         NaN  ...         NaN      NaN   \n",
       "1             The Fantasticks  ...         0.0     86.0   \n",
       "2               For the Cause  ...         0.0    100.0   \n",
       "3                        Gang  ...         0.0    152.0   \n",
       "4                        花樣年華  ...  12854953.0     99.0   \n",
       "...                       ...  ...         ...      ...   \n",
       "3528              Heikos Welt  ...         0.0    118.0   \n",
       "3529  India Sweets and Spices  ...         0.0    101.0   \n",
       "3530              The Hunting  ...         0.0     91.0   \n",
       "3531             The Scrapper  ...         0.0     87.0   \n",
       "3532               The Cursed  ...   4588389.0    111.0   \n",
       "\n",
       "                                       spoken_languages    status  \\\n",
       "0                                                   NaN       NaN   \n",
       "1     [{'english_name': 'English', 'iso_639_1': 'en'...  Released   \n",
       "2     [{'english_name': 'English', 'iso_639_1': 'en'...  Released   \n",
       "3     [{'english_name': 'Hindi', 'iso_639_1': 'hi', ...  Released   \n",
       "4     [{'english_name': 'Cantonese', 'iso_639_1': 'c...  Released   \n",
       "...                                                 ...       ...   \n",
       "3528  [{'english_name': 'German', 'iso_639_1': 'de',...  Released   \n",
       "3529  [{'english_name': 'English', 'iso_639_1': 'en'...  Released   \n",
       "3530  [{'english_name': 'English', 'iso_639_1': 'en'...  Released   \n",
       "3531  [{'english_name': 'English', 'iso_639_1': 'en'...  Released   \n",
       "3532  [{'english_name': 'English', 'iso_639_1': 'en'...  Released   \n",
       "\n",
       "                                                tagline  \\\n",
       "0                                                   NaN   \n",
       "1         Try to remember the first time magic happened   \n",
       "2          The ultimate showdown on a forbidden planet.   \n",
       "3                                                   NaN   \n",
       "4     Feel the heat, keep the feeling burning, let t...   \n",
       "...                                                 ...   \n",
       "3528                                                NaN   \n",
       "3529                              Let the aunties talk.   \n",
       "3530                                  Hunger runs deep.   \n",
       "3531                        You can't escape your past.   \n",
       "3532                                                NaN   \n",
       "\n",
       "                        title  video  vote_average vote_count certification  \n",
       "0                         NaN    NaN           NaN        NaN           NaN  \n",
       "1             The Fantasticks    0.0           5.4       21.0           NaN  \n",
       "2               For the Cause    0.0           4.4        7.0           NaN  \n",
       "3                        Gang    0.0           0.0        0.0           NaN  \n",
       "4        In the Mood for Love    0.0           8.1     1868.0            PG  \n",
       "...                       ...    ...           ...        ...           ...  \n",
       "3528            Heiko's World    0.0           0.0        0.0           NaN  \n",
       "3529  India Sweets and Spices    0.0           6.0        2.0         PG-13  \n",
       "3530              The Hunting    0.0           4.9       20.0           NaN  \n",
       "3531             The Scrapper    0.0           6.0        2.0           NaN  \n",
       "3532               The Cursed    0.0           7.0       55.0             R  \n",
       "\n",
       "[60152 rows x 26 columns]"
      ]
     },
     "execution_count": 3,
     "metadata": {},
     "output_type": "execute_result"
    }
   ],
   "source": [
    "## Loading and Concatenating the list of dfs\n",
    "df = pd.concat([pd.read_csv(file,lineterminator='\\n') for file in chunked_files])\n",
    "df"
   ]
  },
  {
   "cell_type": "code",
   "execution_count": 4,
   "id": "b511bc05",
   "metadata": {},
   "outputs": [
    {
     "data": {
      "text/html": [
       "<div>\n",
       "<style scoped>\n",
       "    .dataframe tbody tr th:only-of-type {\n",
       "        vertical-align: middle;\n",
       "    }\n",
       "\n",
       "    .dataframe tbody tr th {\n",
       "        vertical-align: top;\n",
       "    }\n",
       "\n",
       "    .dataframe thead th {\n",
       "        text-align: right;\n",
       "    }\n",
       "</style>\n",
       "<table border=\"1\" class=\"dataframe\">\n",
       "  <thead>\n",
       "    <tr style=\"text-align: right;\">\n",
       "      <th></th>\n",
       "      <th>imdb_id</th>\n",
       "      <th>adult</th>\n",
       "      <th>backdrop_path</th>\n",
       "      <th>belongs_to_collection</th>\n",
       "      <th>budget</th>\n",
       "      <th>genres</th>\n",
       "      <th>homepage</th>\n",
       "      <th>id</th>\n",
       "      <th>original_language</th>\n",
       "      <th>original_title</th>\n",
       "      <th>...</th>\n",
       "      <th>revenue</th>\n",
       "      <th>runtime</th>\n",
       "      <th>spoken_languages</th>\n",
       "      <th>status</th>\n",
       "      <th>tagline</th>\n",
       "      <th>title</th>\n",
       "      <th>video</th>\n",
       "      <th>vote_average</th>\n",
       "      <th>vote_count</th>\n",
       "      <th>certification</th>\n",
       "    </tr>\n",
       "  </thead>\n",
       "  <tbody>\n",
       "    <tr>\n",
       "      <th>1</th>\n",
       "      <td>tt0113026</td>\n",
       "      <td>0.0</td>\n",
       "      <td>/vMFs7nw6P0bIV1jDsQpxAieAVnH.jpg</td>\n",
       "      <td>NaN</td>\n",
       "      <td>10000000.0</td>\n",
       "      <td>[{'id': 35, 'name': 'Comedy'}, {'id': 10402, '...</td>\n",
       "      <td>NaN</td>\n",
       "      <td>62127.0</td>\n",
       "      <td>en</td>\n",
       "      <td>The Fantasticks</td>\n",
       "      <td>...</td>\n",
       "      <td>0.0</td>\n",
       "      <td>86.0</td>\n",
       "      <td>[{'english_name': 'English', 'iso_639_1': 'en'...</td>\n",
       "      <td>Released</td>\n",
       "      <td>Try to remember the first time magic happened</td>\n",
       "      <td>The Fantasticks</td>\n",
       "      <td>0.0</td>\n",
       "      <td>5.4</td>\n",
       "      <td>21.0</td>\n",
       "      <td>NaN</td>\n",
       "    </tr>\n",
       "    <tr>\n",
       "      <th>2</th>\n",
       "      <td>tt0113092</td>\n",
       "      <td>0.0</td>\n",
       "      <td>NaN</td>\n",
       "      <td>NaN</td>\n",
       "      <td>0.0</td>\n",
       "      <td>[{'id': 878, 'name': 'Science Fiction'}]</td>\n",
       "      <td>NaN</td>\n",
       "      <td>110977.0</td>\n",
       "      <td>en</td>\n",
       "      <td>For the Cause</td>\n",
       "      <td>...</td>\n",
       "      <td>0.0</td>\n",
       "      <td>100.0</td>\n",
       "      <td>[{'english_name': 'English', 'iso_639_1': 'en'...</td>\n",
       "      <td>Released</td>\n",
       "      <td>The ultimate showdown on a forbidden planet.</td>\n",
       "      <td>For the Cause</td>\n",
       "      <td>0.0</td>\n",
       "      <td>4.4</td>\n",
       "      <td>7.0</td>\n",
       "      <td>NaN</td>\n",
       "    </tr>\n",
       "    <tr>\n",
       "      <th>3</th>\n",
       "      <td>tt0116391</td>\n",
       "      <td>0.0</td>\n",
       "      <td>NaN</td>\n",
       "      <td>NaN</td>\n",
       "      <td>0.0</td>\n",
       "      <td>[{'id': 18, 'name': 'Drama'}, {'id': 28, 'name...</td>\n",
       "      <td>NaN</td>\n",
       "      <td>442869.0</td>\n",
       "      <td>hi</td>\n",
       "      <td>Gang</td>\n",
       "      <td>...</td>\n",
       "      <td>0.0</td>\n",
       "      <td>152.0</td>\n",
       "      <td>[{'english_name': 'Hindi', 'iso_639_1': 'hi', ...</td>\n",
       "      <td>Released</td>\n",
       "      <td>NaN</td>\n",
       "      <td>Gang</td>\n",
       "      <td>0.0</td>\n",
       "      <td>0.0</td>\n",
       "      <td>0.0</td>\n",
       "      <td>NaN</td>\n",
       "    </tr>\n",
       "    <tr>\n",
       "      <th>4</th>\n",
       "      <td>tt0118694</td>\n",
       "      <td>0.0</td>\n",
       "      <td>/n4GJFGzsc7NinI1VeGDXIcQjtU2.jpg</td>\n",
       "      <td>NaN</td>\n",
       "      <td>150000.0</td>\n",
       "      <td>[{'id': 18, 'name': 'Drama'}, {'id': 10749, 'n...</td>\n",
       "      <td>http://www.wkw-inthemoodforlove.com/</td>\n",
       "      <td>843.0</td>\n",
       "      <td>cn</td>\n",
       "      <td>花樣年華</td>\n",
       "      <td>...</td>\n",
       "      <td>12854953.0</td>\n",
       "      <td>99.0</td>\n",
       "      <td>[{'english_name': 'Cantonese', 'iso_639_1': 'c...</td>\n",
       "      <td>Released</td>\n",
       "      <td>Feel the heat, keep the feeling burning, let t...</td>\n",
       "      <td>In the Mood for Love</td>\n",
       "      <td>0.0</td>\n",
       "      <td>8.1</td>\n",
       "      <td>1868.0</td>\n",
       "      <td>PG</td>\n",
       "    </tr>\n",
       "    <tr>\n",
       "      <th>5</th>\n",
       "      <td>tt0118852</td>\n",
       "      <td>0.0</td>\n",
       "      <td>NaN</td>\n",
       "      <td>NaN</td>\n",
       "      <td>0.0</td>\n",
       "      <td>[{'id': 18, 'name': 'Drama'}]</td>\n",
       "      <td>NaN</td>\n",
       "      <td>49511.0</td>\n",
       "      <td>en</td>\n",
       "      <td>Chinese Coffee</td>\n",
       "      <td>...</td>\n",
       "      <td>0.0</td>\n",
       "      <td>99.0</td>\n",
       "      <td>[{'english_name': 'English', 'iso_639_1': 'en'...</td>\n",
       "      <td>Released</td>\n",
       "      <td>There's a fine line between friendship and bet...</td>\n",
       "      <td>Chinese Coffee</td>\n",
       "      <td>0.0</td>\n",
       "      <td>6.9</td>\n",
       "      <td>46.0</td>\n",
       "      <td>R</td>\n",
       "    </tr>\n",
       "    <tr>\n",
       "      <th>...</th>\n",
       "      <td>...</td>\n",
       "      <td>...</td>\n",
       "      <td>...</td>\n",
       "      <td>...</td>\n",
       "      <td>...</td>\n",
       "      <td>...</td>\n",
       "      <td>...</td>\n",
       "      <td>...</td>\n",
       "      <td>...</td>\n",
       "      <td>...</td>\n",
       "      <td>...</td>\n",
       "      <td>...</td>\n",
       "      <td>...</td>\n",
       "      <td>...</td>\n",
       "      <td>...</td>\n",
       "      <td>...</td>\n",
       "      <td>...</td>\n",
       "      <td>...</td>\n",
       "      <td>...</td>\n",
       "      <td>...</td>\n",
       "      <td>...</td>\n",
       "    </tr>\n",
       "    <tr>\n",
       "      <th>3528</th>\n",
       "      <td>tt9895024</td>\n",
       "      <td>0.0</td>\n",
       "      <td>/S1kutYyoyuBJKGS0mXxv2fZNbr.jpg</td>\n",
       "      <td>NaN</td>\n",
       "      <td>0.0</td>\n",
       "      <td>[{'id': 18, 'name': 'Drama'}, {'id': 35, 'name...</td>\n",
       "      <td>NaN</td>\n",
       "      <td>834443.0</td>\n",
       "      <td>de</td>\n",
       "      <td>Heikos Welt</td>\n",
       "      <td>...</td>\n",
       "      <td>0.0</td>\n",
       "      <td>118.0</td>\n",
       "      <td>[{'english_name': 'German', 'iso_639_1': 'de',...</td>\n",
       "      <td>Released</td>\n",
       "      <td>NaN</td>\n",
       "      <td>Heiko's World</td>\n",
       "      <td>0.0</td>\n",
       "      <td>0.0</td>\n",
       "      <td>0.0</td>\n",
       "      <td>NaN</td>\n",
       "    </tr>\n",
       "    <tr>\n",
       "      <th>3529</th>\n",
       "      <td>tt9896876</td>\n",
       "      <td>0.0</td>\n",
       "      <td>/hMvRbT6HOqERhh3K8kXbaLz9LlZ.jpg</td>\n",
       "      <td>NaN</td>\n",
       "      <td>0.0</td>\n",
       "      <td>[{'id': 35, 'name': 'Comedy'}, {'id': 18, 'nam...</td>\n",
       "      <td>NaN</td>\n",
       "      <td>821493.0</td>\n",
       "      <td>en</td>\n",
       "      <td>India Sweets and Spices</td>\n",
       "      <td>...</td>\n",
       "      <td>0.0</td>\n",
       "      <td>101.0</td>\n",
       "      <td>[{'english_name': 'English', 'iso_639_1': 'en'...</td>\n",
       "      <td>Released</td>\n",
       "      <td>Let the aunties talk.</td>\n",
       "      <td>India Sweets and Spices</td>\n",
       "      <td>0.0</td>\n",
       "      <td>6.0</td>\n",
       "      <td>2.0</td>\n",
       "      <td>PG-13</td>\n",
       "    </tr>\n",
       "    <tr>\n",
       "      <th>3530</th>\n",
       "      <td>tt9898844</td>\n",
       "      <td>0.0</td>\n",
       "      <td>/q2KFBGyUSzHDhNqXEYv2LqTWVSz.jpg</td>\n",
       "      <td>NaN</td>\n",
       "      <td>0.0</td>\n",
       "      <td>[{'id': 27, 'name': 'Horror'}]</td>\n",
       "      <td>NaN</td>\n",
       "      <td>870671.0</td>\n",
       "      <td>en</td>\n",
       "      <td>The Hunting</td>\n",
       "      <td>...</td>\n",
       "      <td>0.0</td>\n",
       "      <td>91.0</td>\n",
       "      <td>[{'english_name': 'English', 'iso_639_1': 'en'...</td>\n",
       "      <td>Released</td>\n",
       "      <td>Hunger runs deep.</td>\n",
       "      <td>The Hunting</td>\n",
       "      <td>0.0</td>\n",
       "      <td>4.9</td>\n",
       "      <td>20.0</td>\n",
       "      <td>NaN</td>\n",
       "    </tr>\n",
       "    <tr>\n",
       "      <th>3531</th>\n",
       "      <td>tt9900940</td>\n",
       "      <td>0.0</td>\n",
       "      <td>/3jjWLg5bevWqReyVroYqxwVrH0k.jpg</td>\n",
       "      <td>NaN</td>\n",
       "      <td>0.0</td>\n",
       "      <td>[{'id': 80, 'name': 'Crime'}, {'id': 18, 'name...</td>\n",
       "      <td>NaN</td>\n",
       "      <td>861294.0</td>\n",
       "      <td>en</td>\n",
       "      <td>The Scrapper</td>\n",
       "      <td>...</td>\n",
       "      <td>0.0</td>\n",
       "      <td>87.0</td>\n",
       "      <td>[{'english_name': 'English', 'iso_639_1': 'en'...</td>\n",
       "      <td>Released</td>\n",
       "      <td>You can't escape your past.</td>\n",
       "      <td>The Scrapper</td>\n",
       "      <td>0.0</td>\n",
       "      <td>6.0</td>\n",
       "      <td>2.0</td>\n",
       "      <td>NaN</td>\n",
       "    </tr>\n",
       "    <tr>\n",
       "      <th>3532</th>\n",
       "      <td>tt9907782</td>\n",
       "      <td>0.0</td>\n",
       "      <td>/gRTYArznK1MLAq7opC1tYHnTwM3.jpg</td>\n",
       "      <td>NaN</td>\n",
       "      <td>0.0</td>\n",
       "      <td>[{'id': 27, 'name': 'Horror'}, {'id': 14, 'nam...</td>\n",
       "      <td>NaN</td>\n",
       "      <td>630392.0</td>\n",
       "      <td>en</td>\n",
       "      <td>The Cursed</td>\n",
       "      <td>...</td>\n",
       "      <td>4588389.0</td>\n",
       "      <td>111.0</td>\n",
       "      <td>[{'english_name': 'English', 'iso_639_1': 'en'...</td>\n",
       "      <td>Released</td>\n",
       "      <td>NaN</td>\n",
       "      <td>The Cursed</td>\n",
       "      <td>0.0</td>\n",
       "      <td>7.0</td>\n",
       "      <td>55.0</td>\n",
       "      <td>R</td>\n",
       "    </tr>\n",
       "  </tbody>\n",
       "</table>\n",
       "<p>60130 rows × 26 columns</p>\n",
       "</div>"
      ],
      "text/plain": [
       "        imdb_id  adult                     backdrop_path  \\\n",
       "1     tt0113026    0.0  /vMFs7nw6P0bIV1jDsQpxAieAVnH.jpg   \n",
       "2     tt0113092    0.0                               NaN   \n",
       "3     tt0116391    0.0                               NaN   \n",
       "4     tt0118694    0.0  /n4GJFGzsc7NinI1VeGDXIcQjtU2.jpg   \n",
       "5     tt0118852    0.0                               NaN   \n",
       "...         ...    ...                               ...   \n",
       "3528  tt9895024    0.0   /S1kutYyoyuBJKGS0mXxv2fZNbr.jpg   \n",
       "3529  tt9896876    0.0  /hMvRbT6HOqERhh3K8kXbaLz9LlZ.jpg   \n",
       "3530  tt9898844    0.0  /q2KFBGyUSzHDhNqXEYv2LqTWVSz.jpg   \n",
       "3531  tt9900940    0.0  /3jjWLg5bevWqReyVroYqxwVrH0k.jpg   \n",
       "3532  tt9907782    0.0  /gRTYArznK1MLAq7opC1tYHnTwM3.jpg   \n",
       "\n",
       "     belongs_to_collection      budget  \\\n",
       "1                      NaN  10000000.0   \n",
       "2                      NaN         0.0   \n",
       "3                      NaN         0.0   \n",
       "4                      NaN    150000.0   \n",
       "5                      NaN         0.0   \n",
       "...                    ...         ...   \n",
       "3528                   NaN         0.0   \n",
       "3529                   NaN         0.0   \n",
       "3530                   NaN         0.0   \n",
       "3531                   NaN         0.0   \n",
       "3532                   NaN         0.0   \n",
       "\n",
       "                                                 genres  \\\n",
       "1     [{'id': 35, 'name': 'Comedy'}, {'id': 10402, '...   \n",
       "2              [{'id': 878, 'name': 'Science Fiction'}]   \n",
       "3     [{'id': 18, 'name': 'Drama'}, {'id': 28, 'name...   \n",
       "4     [{'id': 18, 'name': 'Drama'}, {'id': 10749, 'n...   \n",
       "5                         [{'id': 18, 'name': 'Drama'}]   \n",
       "...                                                 ...   \n",
       "3528  [{'id': 18, 'name': 'Drama'}, {'id': 35, 'name...   \n",
       "3529  [{'id': 35, 'name': 'Comedy'}, {'id': 18, 'nam...   \n",
       "3530                     [{'id': 27, 'name': 'Horror'}]   \n",
       "3531  [{'id': 80, 'name': 'Crime'}, {'id': 18, 'name...   \n",
       "3532  [{'id': 27, 'name': 'Horror'}, {'id': 14, 'nam...   \n",
       "\n",
       "                                  homepage        id original_language  \\\n",
       "1                                      NaN   62127.0                en   \n",
       "2                                      NaN  110977.0                en   \n",
       "3                                      NaN  442869.0                hi   \n",
       "4     http://www.wkw-inthemoodforlove.com/     843.0                cn   \n",
       "5                                      NaN   49511.0                en   \n",
       "...                                    ...       ...               ...   \n",
       "3528                                   NaN  834443.0                de   \n",
       "3529                                   NaN  821493.0                en   \n",
       "3530                                   NaN  870671.0                en   \n",
       "3531                                   NaN  861294.0                en   \n",
       "3532                                   NaN  630392.0                en   \n",
       "\n",
       "               original_title  ...     revenue  runtime  \\\n",
       "1             The Fantasticks  ...         0.0     86.0   \n",
       "2               For the Cause  ...         0.0    100.0   \n",
       "3                        Gang  ...         0.0    152.0   \n",
       "4                        花樣年華  ...  12854953.0     99.0   \n",
       "5              Chinese Coffee  ...         0.0     99.0   \n",
       "...                       ...  ...         ...      ...   \n",
       "3528              Heikos Welt  ...         0.0    118.0   \n",
       "3529  India Sweets and Spices  ...         0.0    101.0   \n",
       "3530              The Hunting  ...         0.0     91.0   \n",
       "3531             The Scrapper  ...         0.0     87.0   \n",
       "3532               The Cursed  ...   4588389.0    111.0   \n",
       "\n",
       "                                       spoken_languages    status  \\\n",
       "1     [{'english_name': 'English', 'iso_639_1': 'en'...  Released   \n",
       "2     [{'english_name': 'English', 'iso_639_1': 'en'...  Released   \n",
       "3     [{'english_name': 'Hindi', 'iso_639_1': 'hi', ...  Released   \n",
       "4     [{'english_name': 'Cantonese', 'iso_639_1': 'c...  Released   \n",
       "5     [{'english_name': 'English', 'iso_639_1': 'en'...  Released   \n",
       "...                                                 ...       ...   \n",
       "3528  [{'english_name': 'German', 'iso_639_1': 'de',...  Released   \n",
       "3529  [{'english_name': 'English', 'iso_639_1': 'en'...  Released   \n",
       "3530  [{'english_name': 'English', 'iso_639_1': 'en'...  Released   \n",
       "3531  [{'english_name': 'English', 'iso_639_1': 'en'...  Released   \n",
       "3532  [{'english_name': 'English', 'iso_639_1': 'en'...  Released   \n",
       "\n",
       "                                                tagline  \\\n",
       "1         Try to remember the first time magic happened   \n",
       "2          The ultimate showdown on a forbidden planet.   \n",
       "3                                                   NaN   \n",
       "4     Feel the heat, keep the feeling burning, let t...   \n",
       "5     There's a fine line between friendship and bet...   \n",
       "...                                                 ...   \n",
       "3528                                                NaN   \n",
       "3529                              Let the aunties talk.   \n",
       "3530                                  Hunger runs deep.   \n",
       "3531                        You can't escape your past.   \n",
       "3532                                                NaN   \n",
       "\n",
       "                        title  video  vote_average vote_count certification  \n",
       "1             The Fantasticks    0.0           5.4       21.0           NaN  \n",
       "2               For the Cause    0.0           4.4        7.0           NaN  \n",
       "3                        Gang    0.0           0.0        0.0           NaN  \n",
       "4        In the Mood for Love    0.0           8.1     1868.0            PG  \n",
       "5              Chinese Coffee    0.0           6.9       46.0             R  \n",
       "...                       ...    ...           ...        ...           ...  \n",
       "3528            Heiko's World    0.0           0.0        0.0           NaN  \n",
       "3529  India Sweets and Spices    0.0           6.0        2.0         PG-13  \n",
       "3530              The Hunting    0.0           4.9       20.0           NaN  \n",
       "3531             The Scrapper    0.0           6.0        2.0           NaN  \n",
       "3532               The Cursed    0.0           7.0       55.0             R  \n",
       "\n",
       "[60130 rows x 26 columns]"
      ]
     },
     "execution_count": 4,
     "metadata": {},
     "output_type": "execute_result"
    }
   ],
   "source": [
    "# remove ids that are 0\n",
    "df = df.loc[ df['imdb_id']!='0']\n",
    "df"
   ]
  },
  {
   "cell_type": "code",
   "execution_count": 5,
   "id": "7905815a",
   "metadata": {},
   "outputs": [
    {
     "data": {
      "text/html": [
       "<div>\n",
       "<style scoped>\n",
       "    .dataframe tbody tr th:only-of-type {\n",
       "        vertical-align: middle;\n",
       "    }\n",
       "\n",
       "    .dataframe tbody tr th {\n",
       "        vertical-align: top;\n",
       "    }\n",
       "\n",
       "    .dataframe thead th {\n",
       "        text-align: right;\n",
       "    }\n",
       "</style>\n",
       "<table border=\"1\" class=\"dataframe\">\n",
       "  <thead>\n",
       "    <tr style=\"text-align: right;\">\n",
       "      <th></th>\n",
       "      <th>imdb_id</th>\n",
       "      <th>adult</th>\n",
       "      <th>backdrop_path</th>\n",
       "      <th>belongs_to_collection</th>\n",
       "      <th>budget</th>\n",
       "      <th>genres</th>\n",
       "      <th>homepage</th>\n",
       "      <th>id</th>\n",
       "      <th>original_language</th>\n",
       "      <th>original_title</th>\n",
       "      <th>...</th>\n",
       "      <th>revenue</th>\n",
       "      <th>runtime</th>\n",
       "      <th>spoken_languages</th>\n",
       "      <th>status</th>\n",
       "      <th>tagline</th>\n",
       "      <th>title</th>\n",
       "      <th>video</th>\n",
       "      <th>vote_average</th>\n",
       "      <th>vote_count</th>\n",
       "      <th>certification</th>\n",
       "    </tr>\n",
       "  </thead>\n",
       "  <tbody>\n",
       "    <tr>\n",
       "      <th>0</th>\n",
       "      <td>tt0113026</td>\n",
       "      <td>0.0</td>\n",
       "      <td>/vMFs7nw6P0bIV1jDsQpxAieAVnH.jpg</td>\n",
       "      <td>NaN</td>\n",
       "      <td>10000000.0</td>\n",
       "      <td>[{'id': 35, 'name': 'Comedy'}, {'id': 10402, '...</td>\n",
       "      <td>NaN</td>\n",
       "      <td>62127.0</td>\n",
       "      <td>en</td>\n",
       "      <td>The Fantasticks</td>\n",
       "      <td>...</td>\n",
       "      <td>0.0</td>\n",
       "      <td>86.0</td>\n",
       "      <td>[{'english_name': 'English', 'iso_639_1': 'en'...</td>\n",
       "      <td>Released</td>\n",
       "      <td>Try to remember the first time magic happened</td>\n",
       "      <td>The Fantasticks</td>\n",
       "      <td>0.0</td>\n",
       "      <td>5.4</td>\n",
       "      <td>21.0</td>\n",
       "      <td>NaN</td>\n",
       "    </tr>\n",
       "    <tr>\n",
       "      <th>1</th>\n",
       "      <td>tt0113092</td>\n",
       "      <td>0.0</td>\n",
       "      <td>NaN</td>\n",
       "      <td>NaN</td>\n",
       "      <td>0.0</td>\n",
       "      <td>[{'id': 878, 'name': 'Science Fiction'}]</td>\n",
       "      <td>NaN</td>\n",
       "      <td>110977.0</td>\n",
       "      <td>en</td>\n",
       "      <td>For the Cause</td>\n",
       "      <td>...</td>\n",
       "      <td>0.0</td>\n",
       "      <td>100.0</td>\n",
       "      <td>[{'english_name': 'English', 'iso_639_1': 'en'...</td>\n",
       "      <td>Released</td>\n",
       "      <td>The ultimate showdown on a forbidden planet.</td>\n",
       "      <td>For the Cause</td>\n",
       "      <td>0.0</td>\n",
       "      <td>4.4</td>\n",
       "      <td>7.0</td>\n",
       "      <td>NaN</td>\n",
       "    </tr>\n",
       "    <tr>\n",
       "      <th>2</th>\n",
       "      <td>tt0116391</td>\n",
       "      <td>0.0</td>\n",
       "      <td>NaN</td>\n",
       "      <td>NaN</td>\n",
       "      <td>0.0</td>\n",
       "      <td>[{'id': 18, 'name': 'Drama'}, {'id': 28, 'name...</td>\n",
       "      <td>NaN</td>\n",
       "      <td>442869.0</td>\n",
       "      <td>hi</td>\n",
       "      <td>Gang</td>\n",
       "      <td>...</td>\n",
       "      <td>0.0</td>\n",
       "      <td>152.0</td>\n",
       "      <td>[{'english_name': 'Hindi', 'iso_639_1': 'hi', ...</td>\n",
       "      <td>Released</td>\n",
       "      <td>NaN</td>\n",
       "      <td>Gang</td>\n",
       "      <td>0.0</td>\n",
       "      <td>0.0</td>\n",
       "      <td>0.0</td>\n",
       "      <td>NaN</td>\n",
       "    </tr>\n",
       "    <tr>\n",
       "      <th>3</th>\n",
       "      <td>tt0118694</td>\n",
       "      <td>0.0</td>\n",
       "      <td>/n4GJFGzsc7NinI1VeGDXIcQjtU2.jpg</td>\n",
       "      <td>NaN</td>\n",
       "      <td>150000.0</td>\n",
       "      <td>[{'id': 18, 'name': 'Drama'}, {'id': 10749, 'n...</td>\n",
       "      <td>http://www.wkw-inthemoodforlove.com/</td>\n",
       "      <td>843.0</td>\n",
       "      <td>cn</td>\n",
       "      <td>花樣年華</td>\n",
       "      <td>...</td>\n",
       "      <td>12854953.0</td>\n",
       "      <td>99.0</td>\n",
       "      <td>[{'english_name': 'Cantonese', 'iso_639_1': 'c...</td>\n",
       "      <td>Released</td>\n",
       "      <td>Feel the heat, keep the feeling burning, let t...</td>\n",
       "      <td>In the Mood for Love</td>\n",
       "      <td>0.0</td>\n",
       "      <td>8.1</td>\n",
       "      <td>1868.0</td>\n",
       "      <td>PG</td>\n",
       "    </tr>\n",
       "    <tr>\n",
       "      <th>4</th>\n",
       "      <td>tt0118852</td>\n",
       "      <td>0.0</td>\n",
       "      <td>NaN</td>\n",
       "      <td>NaN</td>\n",
       "      <td>0.0</td>\n",
       "      <td>[{'id': 18, 'name': 'Drama'}]</td>\n",
       "      <td>NaN</td>\n",
       "      <td>49511.0</td>\n",
       "      <td>en</td>\n",
       "      <td>Chinese Coffee</td>\n",
       "      <td>...</td>\n",
       "      <td>0.0</td>\n",
       "      <td>99.0</td>\n",
       "      <td>[{'english_name': 'English', 'iso_639_1': 'en'...</td>\n",
       "      <td>Released</td>\n",
       "      <td>There's a fine line between friendship and bet...</td>\n",
       "      <td>Chinese Coffee</td>\n",
       "      <td>0.0</td>\n",
       "      <td>6.9</td>\n",
       "      <td>46.0</td>\n",
       "      <td>R</td>\n",
       "    </tr>\n",
       "    <tr>\n",
       "      <th>...</th>\n",
       "      <td>...</td>\n",
       "      <td>...</td>\n",
       "      <td>...</td>\n",
       "      <td>...</td>\n",
       "      <td>...</td>\n",
       "      <td>...</td>\n",
       "      <td>...</td>\n",
       "      <td>...</td>\n",
       "      <td>...</td>\n",
       "      <td>...</td>\n",
       "      <td>...</td>\n",
       "      <td>...</td>\n",
       "      <td>...</td>\n",
       "      <td>...</td>\n",
       "      <td>...</td>\n",
       "      <td>...</td>\n",
       "      <td>...</td>\n",
       "      <td>...</td>\n",
       "      <td>...</td>\n",
       "      <td>...</td>\n",
       "      <td>...</td>\n",
       "    </tr>\n",
       "    <tr>\n",
       "      <th>60125</th>\n",
       "      <td>tt9895024</td>\n",
       "      <td>0.0</td>\n",
       "      <td>/S1kutYyoyuBJKGS0mXxv2fZNbr.jpg</td>\n",
       "      <td>NaN</td>\n",
       "      <td>0.0</td>\n",
       "      <td>[{'id': 18, 'name': 'Drama'}, {'id': 35, 'name...</td>\n",
       "      <td>NaN</td>\n",
       "      <td>834443.0</td>\n",
       "      <td>de</td>\n",
       "      <td>Heikos Welt</td>\n",
       "      <td>...</td>\n",
       "      <td>0.0</td>\n",
       "      <td>118.0</td>\n",
       "      <td>[{'english_name': 'German', 'iso_639_1': 'de',...</td>\n",
       "      <td>Released</td>\n",
       "      <td>NaN</td>\n",
       "      <td>Heiko's World</td>\n",
       "      <td>0.0</td>\n",
       "      <td>0.0</td>\n",
       "      <td>0.0</td>\n",
       "      <td>NaN</td>\n",
       "    </tr>\n",
       "    <tr>\n",
       "      <th>60126</th>\n",
       "      <td>tt9896876</td>\n",
       "      <td>0.0</td>\n",
       "      <td>/hMvRbT6HOqERhh3K8kXbaLz9LlZ.jpg</td>\n",
       "      <td>NaN</td>\n",
       "      <td>0.0</td>\n",
       "      <td>[{'id': 35, 'name': 'Comedy'}, {'id': 18, 'nam...</td>\n",
       "      <td>NaN</td>\n",
       "      <td>821493.0</td>\n",
       "      <td>en</td>\n",
       "      <td>India Sweets and Spices</td>\n",
       "      <td>...</td>\n",
       "      <td>0.0</td>\n",
       "      <td>101.0</td>\n",
       "      <td>[{'english_name': 'English', 'iso_639_1': 'en'...</td>\n",
       "      <td>Released</td>\n",
       "      <td>Let the aunties talk.</td>\n",
       "      <td>India Sweets and Spices</td>\n",
       "      <td>0.0</td>\n",
       "      <td>6.0</td>\n",
       "      <td>2.0</td>\n",
       "      <td>PG-13</td>\n",
       "    </tr>\n",
       "    <tr>\n",
       "      <th>60127</th>\n",
       "      <td>tt9898844</td>\n",
       "      <td>0.0</td>\n",
       "      <td>/q2KFBGyUSzHDhNqXEYv2LqTWVSz.jpg</td>\n",
       "      <td>NaN</td>\n",
       "      <td>0.0</td>\n",
       "      <td>[{'id': 27, 'name': 'Horror'}]</td>\n",
       "      <td>NaN</td>\n",
       "      <td>870671.0</td>\n",
       "      <td>en</td>\n",
       "      <td>The Hunting</td>\n",
       "      <td>...</td>\n",
       "      <td>0.0</td>\n",
       "      <td>91.0</td>\n",
       "      <td>[{'english_name': 'English', 'iso_639_1': 'en'...</td>\n",
       "      <td>Released</td>\n",
       "      <td>Hunger runs deep.</td>\n",
       "      <td>The Hunting</td>\n",
       "      <td>0.0</td>\n",
       "      <td>4.9</td>\n",
       "      <td>20.0</td>\n",
       "      <td>NaN</td>\n",
       "    </tr>\n",
       "    <tr>\n",
       "      <th>60128</th>\n",
       "      <td>tt9900940</td>\n",
       "      <td>0.0</td>\n",
       "      <td>/3jjWLg5bevWqReyVroYqxwVrH0k.jpg</td>\n",
       "      <td>NaN</td>\n",
       "      <td>0.0</td>\n",
       "      <td>[{'id': 80, 'name': 'Crime'}, {'id': 18, 'name...</td>\n",
       "      <td>NaN</td>\n",
       "      <td>861294.0</td>\n",
       "      <td>en</td>\n",
       "      <td>The Scrapper</td>\n",
       "      <td>...</td>\n",
       "      <td>0.0</td>\n",
       "      <td>87.0</td>\n",
       "      <td>[{'english_name': 'English', 'iso_639_1': 'en'...</td>\n",
       "      <td>Released</td>\n",
       "      <td>You can't escape your past.</td>\n",
       "      <td>The Scrapper</td>\n",
       "      <td>0.0</td>\n",
       "      <td>6.0</td>\n",
       "      <td>2.0</td>\n",
       "      <td>NaN</td>\n",
       "    </tr>\n",
       "    <tr>\n",
       "      <th>60129</th>\n",
       "      <td>tt9907782</td>\n",
       "      <td>0.0</td>\n",
       "      <td>/gRTYArznK1MLAq7opC1tYHnTwM3.jpg</td>\n",
       "      <td>NaN</td>\n",
       "      <td>0.0</td>\n",
       "      <td>[{'id': 27, 'name': 'Horror'}, {'id': 14, 'nam...</td>\n",
       "      <td>NaN</td>\n",
       "      <td>630392.0</td>\n",
       "      <td>en</td>\n",
       "      <td>The Cursed</td>\n",
       "      <td>...</td>\n",
       "      <td>4588389.0</td>\n",
       "      <td>111.0</td>\n",
       "      <td>[{'english_name': 'English', 'iso_639_1': 'en'...</td>\n",
       "      <td>Released</td>\n",
       "      <td>NaN</td>\n",
       "      <td>The Cursed</td>\n",
       "      <td>0.0</td>\n",
       "      <td>7.0</td>\n",
       "      <td>55.0</td>\n",
       "      <td>R</td>\n",
       "    </tr>\n",
       "  </tbody>\n",
       "</table>\n",
       "<p>60130 rows × 26 columns</p>\n",
       "</div>"
      ],
      "text/plain": [
       "         imdb_id  adult                     backdrop_path  \\\n",
       "0      tt0113026    0.0  /vMFs7nw6P0bIV1jDsQpxAieAVnH.jpg   \n",
       "1      tt0113092    0.0                               NaN   \n",
       "2      tt0116391    0.0                               NaN   \n",
       "3      tt0118694    0.0  /n4GJFGzsc7NinI1VeGDXIcQjtU2.jpg   \n",
       "4      tt0118852    0.0                               NaN   \n",
       "...          ...    ...                               ...   \n",
       "60125  tt9895024    0.0   /S1kutYyoyuBJKGS0mXxv2fZNbr.jpg   \n",
       "60126  tt9896876    0.0  /hMvRbT6HOqERhh3K8kXbaLz9LlZ.jpg   \n",
       "60127  tt9898844    0.0  /q2KFBGyUSzHDhNqXEYv2LqTWVSz.jpg   \n",
       "60128  tt9900940    0.0  /3jjWLg5bevWqReyVroYqxwVrH0k.jpg   \n",
       "60129  tt9907782    0.0  /gRTYArznK1MLAq7opC1tYHnTwM3.jpg   \n",
       "\n",
       "      belongs_to_collection      budget  \\\n",
       "0                       NaN  10000000.0   \n",
       "1                       NaN         0.0   \n",
       "2                       NaN         0.0   \n",
       "3                       NaN    150000.0   \n",
       "4                       NaN         0.0   \n",
       "...                     ...         ...   \n",
       "60125                   NaN         0.0   \n",
       "60126                   NaN         0.0   \n",
       "60127                   NaN         0.0   \n",
       "60128                   NaN         0.0   \n",
       "60129                   NaN         0.0   \n",
       "\n",
       "                                                  genres  \\\n",
       "0      [{'id': 35, 'name': 'Comedy'}, {'id': 10402, '...   \n",
       "1               [{'id': 878, 'name': 'Science Fiction'}]   \n",
       "2      [{'id': 18, 'name': 'Drama'}, {'id': 28, 'name...   \n",
       "3      [{'id': 18, 'name': 'Drama'}, {'id': 10749, 'n...   \n",
       "4                          [{'id': 18, 'name': 'Drama'}]   \n",
       "...                                                  ...   \n",
       "60125  [{'id': 18, 'name': 'Drama'}, {'id': 35, 'name...   \n",
       "60126  [{'id': 35, 'name': 'Comedy'}, {'id': 18, 'nam...   \n",
       "60127                     [{'id': 27, 'name': 'Horror'}]   \n",
       "60128  [{'id': 80, 'name': 'Crime'}, {'id': 18, 'name...   \n",
       "60129  [{'id': 27, 'name': 'Horror'}, {'id': 14, 'nam...   \n",
       "\n",
       "                                   homepage        id original_language  \\\n",
       "0                                       NaN   62127.0                en   \n",
       "1                                       NaN  110977.0                en   \n",
       "2                                       NaN  442869.0                hi   \n",
       "3      http://www.wkw-inthemoodforlove.com/     843.0                cn   \n",
       "4                                       NaN   49511.0                en   \n",
       "...                                     ...       ...               ...   \n",
       "60125                                   NaN  834443.0                de   \n",
       "60126                                   NaN  821493.0                en   \n",
       "60127                                   NaN  870671.0                en   \n",
       "60128                                   NaN  861294.0                en   \n",
       "60129                                   NaN  630392.0                en   \n",
       "\n",
       "                original_title  ...     revenue  runtime  \\\n",
       "0              The Fantasticks  ...         0.0     86.0   \n",
       "1                For the Cause  ...         0.0    100.0   \n",
       "2                         Gang  ...         0.0    152.0   \n",
       "3                         花樣年華  ...  12854953.0     99.0   \n",
       "4               Chinese Coffee  ...         0.0     99.0   \n",
       "...                        ...  ...         ...      ...   \n",
       "60125              Heikos Welt  ...         0.0    118.0   \n",
       "60126  India Sweets and Spices  ...         0.0    101.0   \n",
       "60127              The Hunting  ...         0.0     91.0   \n",
       "60128             The Scrapper  ...         0.0     87.0   \n",
       "60129               The Cursed  ...   4588389.0    111.0   \n",
       "\n",
       "                                        spoken_languages    status  \\\n",
       "0      [{'english_name': 'English', 'iso_639_1': 'en'...  Released   \n",
       "1      [{'english_name': 'English', 'iso_639_1': 'en'...  Released   \n",
       "2      [{'english_name': 'Hindi', 'iso_639_1': 'hi', ...  Released   \n",
       "3      [{'english_name': 'Cantonese', 'iso_639_1': 'c...  Released   \n",
       "4      [{'english_name': 'English', 'iso_639_1': 'en'...  Released   \n",
       "...                                                  ...       ...   \n",
       "60125  [{'english_name': 'German', 'iso_639_1': 'de',...  Released   \n",
       "60126  [{'english_name': 'English', 'iso_639_1': 'en'...  Released   \n",
       "60127  [{'english_name': 'English', 'iso_639_1': 'en'...  Released   \n",
       "60128  [{'english_name': 'English', 'iso_639_1': 'en'...  Released   \n",
       "60129  [{'english_name': 'English', 'iso_639_1': 'en'...  Released   \n",
       "\n",
       "                                                 tagline  \\\n",
       "0          Try to remember the first time magic happened   \n",
       "1           The ultimate showdown on a forbidden planet.   \n",
       "2                                                    NaN   \n",
       "3      Feel the heat, keep the feeling burning, let t...   \n",
       "4      There's a fine line between friendship and bet...   \n",
       "...                                                  ...   \n",
       "60125                                                NaN   \n",
       "60126                              Let the aunties talk.   \n",
       "60127                                  Hunger runs deep.   \n",
       "60128                        You can't escape your past.   \n",
       "60129                                                NaN   \n",
       "\n",
       "                         title  video  vote_average vote_count certification  \n",
       "0              The Fantasticks    0.0           5.4       21.0           NaN  \n",
       "1                For the Cause    0.0           4.4        7.0           NaN  \n",
       "2                         Gang    0.0           0.0        0.0           NaN  \n",
       "3         In the Mood for Love    0.0           8.1     1868.0            PG  \n",
       "4               Chinese Coffee    0.0           6.9       46.0             R  \n",
       "...                        ...    ...           ...        ...           ...  \n",
       "60125            Heiko's World    0.0           0.0        0.0           NaN  \n",
       "60126  India Sweets and Spices    0.0           6.0        2.0         PG-13  \n",
       "60127              The Hunting    0.0           4.9       20.0           NaN  \n",
       "60128             The Scrapper    0.0           6.0        2.0           NaN  \n",
       "60129               The Cursed    0.0           7.0       55.0             R  \n",
       "\n",
       "[60130 rows x 26 columns]"
      ]
     },
     "execution_count": 5,
     "metadata": {},
     "output_type": "execute_result"
    }
   ],
   "source": [
    "df = df.reset_index(drop=True)\n",
    "df"
   ]
  },
  {
   "cell_type": "code",
   "execution_count": 6,
   "id": "1eb6b287",
   "metadata": {},
   "outputs": [],
   "source": [
    "## Saving the final combined dataframe\n",
    "# final_fname ='Data/final_tmdb_data_combined.csv.gz'\n",
    "# df.to_csv(final_fname, compression='gzip', index=False)"
   ]
  },
  {
   "cell_type": "code",
   "execution_count": 7,
   "id": "1ed44ea5",
   "metadata": {},
   "outputs": [],
   "source": [
    "# df = pd.read_csv(final_fname,lineterminator='\\n')\n",
    "# df"
   ]
  },
  {
   "cell_type": "code",
   "execution_count": 8,
   "id": "f1fcce17",
   "metadata": {},
   "outputs": [
    {
     "name": "stdout",
     "output_type": "stream",
     "text": [
      "<class 'pandas.core.frame.DataFrame'>\n",
      "RangeIndex: 60130 entries, 0 to 60129\n",
      "Data columns (total 26 columns):\n",
      " #   Column                 Non-Null Count  Dtype  \n",
      "---  ------                 --------------  -----  \n",
      " 0   imdb_id                60130 non-null  object \n",
      " 1   adult                  60130 non-null  float64\n",
      " 2   backdrop_path          36994 non-null  object \n",
      " 3   belongs_to_collection  3738 non-null   object \n",
      " 4   budget                 60130 non-null  float64\n",
      " 5   genres                 60130 non-null  object \n",
      " 6   homepage               14776 non-null  object \n",
      " 7   id                     60130 non-null  float64\n",
      " 8   original_language      60130 non-null  object \n",
      " 9   original_title         60130 non-null  object \n",
      " 10  overview               58761 non-null  object \n",
      " 11  popularity             60130 non-null  float64\n",
      " 12  poster_path            54382 non-null  object \n",
      " 13  production_companies   60130 non-null  object \n",
      " 14  production_countries   60130 non-null  object \n",
      " 15  release_date           59078 non-null  object \n",
      " 16  revenue                60130 non-null  float64\n",
      " 17  runtime                59298 non-null  float64\n",
      " 18  spoken_languages       60130 non-null  object \n",
      " 19  status                 60130 non-null  object \n",
      " 20  tagline                22079 non-null  object \n",
      " 21  title                  60130 non-null  object \n",
      " 22  video                  60130 non-null  float64\n",
      " 23  vote_average           60130 non-null  float64\n",
      " 24  vote_count             60130 non-null  float64\n",
      " 25  certification          14624 non-null  object \n",
      "dtypes: float64(9), object(17)\n",
      "memory usage: 11.9+ MB\n"
     ]
    }
   ],
   "source": [
    "df.info()"
   ]
  },
  {
   "cell_type": "code",
   "execution_count": 9,
   "id": "2fa692b4",
   "metadata": {},
   "outputs": [],
   "source": [
    "# Significance level\n",
    "alpha = 0.05"
   ]
  },
  {
   "cell_type": "markdown",
   "id": "e3852323",
   "metadata": {},
   "source": [
    "## Does the MPAA rating of a movie (G/PG/PG-13/R) affect how much revenue the movie generates?\n",
    "- Is there a significant difference between ratings?\n",
    " - If so, what was the p-value of our analysis?\n",
    " - Which rating earns the most revenue?\n",
    "- We prepare a visualization that supports our finding."
   ]
  },
  {
   "cell_type": "code",
   "execution_count": 10,
   "id": "1e53167e",
   "metadata": {},
   "outputs": [
    {
     "data": {
      "text/plain": [
       "NaN                                45506\n",
       "R                                   6097\n",
       "NR                                  3261\n",
       "PG-13                               3224\n",
       "PG                                  1432\n",
       "G                                    442\n",
       "NC-17                                156\n",
       "Unrated                                5\n",
       "-                                      1\n",
       "UR                                     1\n",
       "Not Rated                              1\n",
       "ScreamFest Horror Film Festival        1\n",
       "R                                      1\n",
       "PG-13                                  1\n",
       "10                                     1\n",
       "Name: certification, dtype: int64"
      ]
     },
     "execution_count": 10,
     "metadata": {},
     "output_type": "execute_result"
    }
   ],
   "source": [
    "## Checking Certification values\n",
    "df['certification'].value_counts(dropna=False)"
   ]
  },
  {
   "cell_type": "code",
   "execution_count": 11,
   "id": "2d7794fa",
   "metadata": {},
   "outputs": [],
   "source": [
    "# fix extra space certs\n",
    "df['certification'] = df['certification'].str.strip()"
   ]
  },
  {
   "cell_type": "code",
   "execution_count": 12,
   "id": "d5cc3f02",
   "metadata": {},
   "outputs": [
    {
     "data": {
      "text/plain": [
       "NaN      45507\n",
       "R         6098\n",
       "NR        3270\n",
       "PG-13     3225\n",
       "PG        1432\n",
       "G          442\n",
       "NC-17      156\n",
       "Name: certification, dtype: int64"
      ]
     },
     "execution_count": 12,
     "metadata": {},
     "output_type": "execute_result"
    }
   ],
   "source": [
    "## fix certification col\n",
    "repl_cert = {'UR':'NR',\n",
    "             'Not Rated':'NR',\n",
    "             'Unrated':'NR',\n",
    "             '-':'NR',\n",
    "             '10':np.nan,\n",
    "             'ScreamFest Horror Film Festival':'NR'}\n",
    "df['certification'] = df['certification'].replace(repl_cert)\n",
    "df['certification'].value_counts(dropna=False)"
   ]
  },
  {
   "cell_type": "code",
   "execution_count": 13,
   "id": "9d9aff24",
   "metadata": {},
   "outputs": [],
   "source": [
    "# Fill in missing ratings with NR (not rated)\n",
    "df['certification'].fillna('NR',inplace=True)"
   ]
  },
  {
   "cell_type": "code",
   "execution_count": 14,
   "id": "77215e19",
   "metadata": {},
   "outputs": [
    {
     "data": {
      "text/plain": [
       "NR       48777\n",
       "R         6098\n",
       "PG-13     3225\n",
       "PG        1432\n",
       "G          442\n",
       "NC-17      156\n",
       "Name: certification, dtype: int64"
      ]
     },
     "execution_count": 14,
     "metadata": {},
     "output_type": "execute_result"
    }
   ],
   "source": [
    "df['certification'].value_counts(dropna=False)"
   ]
  },
  {
   "cell_type": "markdown",
   "id": "a35e1049",
   "metadata": {},
   "source": [
    "- Null hypothesis: There is no significant statistical difference between the revenue generated by movies with different MPAA ratings.\n",
    "\n",
    "- Alternate hypothesis: There is a significant statistical difference between the revenue generated by movies with different MPAA ratings.\n",
    "\n",
    "Since we are comparing numerical data between more than 2 groups, we are going to use an ANOVA test."
   ]
  },
  {
   "cell_type": "markdown",
   "id": "0fe7917d",
   "metadata": {},
   "source": [
    "### Outlier Assumption"
   ]
  },
  {
   "cell_type": "code",
   "execution_count": 15,
   "id": "2db85ea5",
   "metadata": {},
   "outputs": [],
   "source": [
    "# Filtering out MPAA movies by certification\n",
    "dfPG = df.loc[df['certification']=='PG'].copy()\n",
    "dfR = df.loc[df['certification']=='R'].copy()\n",
    "dfG = df.loc[df['certification']=='G'].copy()\n",
    "dfPG13 = df.loc[df['certification']=='PG-13'].copy()"
   ]
  },
  {
   "cell_type": "code",
   "execution_count": 16,
   "id": "8b3daff4",
   "metadata": {},
   "outputs": [],
   "source": [
    "# Slicing revenue data\n",
    "revPG = dfPG['revenue']\n",
    "revR = dfR['revenue']\n",
    "revG = dfG['revenue']\n",
    "revPG13 = dfPG13['revenue']"
   ]
  },
  {
   "cell_type": "code",
   "execution_count": 17,
   "id": "c287adc3",
   "metadata": {},
   "outputs": [
    {
     "data": {
      "text/plain": [
       "39"
      ]
     },
     "execution_count": 17,
     "metadata": {},
     "output_type": "execute_result"
    }
   ],
   "source": [
    "# Check for outliers in revenue for PG movies\n",
    "zscores= stats.zscore(revPG)\n",
    "outliers = abs(zscores)>3\n",
    "np.sum(outliers)"
   ]
  },
  {
   "cell_type": "code",
   "execution_count": 18,
   "id": "be5044e2",
   "metadata": {},
   "outputs": [
    {
     "data": {
      "text/plain": [
       "1432"
      ]
     },
     "execution_count": 18,
     "metadata": {},
     "output_type": "execute_result"
    }
   ],
   "source": [
    "len(revPG)"
   ]
  },
  {
   "cell_type": "code",
   "execution_count": 19,
   "id": "3fe4f2c4",
   "metadata": {},
   "outputs": [],
   "source": [
    "# remove outliers from PG movies\n",
    "revPG = revPG[(np.abs(stats.zscore(revPG)) <= 3)]"
   ]
  },
  {
   "cell_type": "code",
   "execution_count": 20,
   "id": "df23014b",
   "metadata": {},
   "outputs": [
    {
     "data": {
      "text/plain": [
       "1393"
      ]
     },
     "execution_count": 20,
     "metadata": {},
     "output_type": "execute_result"
    }
   ],
   "source": [
    "# Confirm the 39 outliers were removed from PG movies\n",
    "len(revPG)"
   ]
  },
  {
   "cell_type": "code",
   "execution_count": 21,
   "id": "b217c6d3",
   "metadata": {},
   "outputs": [
    {
     "data": {
      "text/plain": [
       "120"
      ]
     },
     "execution_count": 21,
     "metadata": {},
     "output_type": "execute_result"
    }
   ],
   "source": [
    "# Check for outliers in revenue for R movies\n",
    "zscores= stats.zscore(revR)\n",
    "outliers = abs(zscores)>3\n",
    "np.sum(outliers)"
   ]
  },
  {
   "cell_type": "code",
   "execution_count": 22,
   "id": "b744f837",
   "metadata": {},
   "outputs": [
    {
     "data": {
      "text/plain": [
       "6098"
      ]
     },
     "execution_count": 22,
     "metadata": {},
     "output_type": "execute_result"
    }
   ],
   "source": [
    "len(revR)"
   ]
  },
  {
   "cell_type": "code",
   "execution_count": 23,
   "id": "3bb1daa5",
   "metadata": {},
   "outputs": [],
   "source": [
    "# remove outliers from R movies\n",
    "revR = revR[(np.abs(stats.zscore(revR)) <= 3)]"
   ]
  },
  {
   "cell_type": "code",
   "execution_count": 24,
   "id": "8ec122b0",
   "metadata": {},
   "outputs": [
    {
     "data": {
      "text/plain": [
       "5978"
      ]
     },
     "execution_count": 24,
     "metadata": {},
     "output_type": "execute_result"
    }
   ],
   "source": [
    "# Confirm the 120 outliers were removed from R movies\n",
    "len(revR)"
   ]
  },
  {
   "cell_type": "code",
   "execution_count": 25,
   "id": "e2105ab3",
   "metadata": {},
   "outputs": [
    {
     "data": {
      "text/plain": [
       "10"
      ]
     },
     "execution_count": 25,
     "metadata": {},
     "output_type": "execute_result"
    }
   ],
   "source": [
    "# Check for outliers in revenue for G movies\n",
    "zscores= stats.zscore(revG)\n",
    "outliers = abs(zscores)>3\n",
    "np.sum(outliers)"
   ]
  },
  {
   "cell_type": "code",
   "execution_count": 26,
   "id": "54b70f8f",
   "metadata": {},
   "outputs": [
    {
     "data": {
      "text/plain": [
       "442"
      ]
     },
     "execution_count": 26,
     "metadata": {},
     "output_type": "execute_result"
    }
   ],
   "source": [
    "len(revG)"
   ]
  },
  {
   "cell_type": "code",
   "execution_count": 27,
   "id": "8479d494",
   "metadata": {},
   "outputs": [],
   "source": [
    "# remove outliers from G movies\n",
    "revG = revG[(np.abs(stats.zscore(revG)) <= 3)]"
   ]
  },
  {
   "cell_type": "code",
   "execution_count": 28,
   "id": "89e689f0",
   "metadata": {},
   "outputs": [
    {
     "data": {
      "text/plain": [
       "432"
      ]
     },
     "execution_count": 28,
     "metadata": {},
     "output_type": "execute_result"
    }
   ],
   "source": [
    "# Confirm the 10 outliers were removed from G movies\n",
    "len(revG)"
   ]
  },
  {
   "cell_type": "code",
   "execution_count": 29,
   "id": "47926391",
   "metadata": {},
   "outputs": [
    {
     "data": {
      "text/plain": [
       "85"
      ]
     },
     "execution_count": 29,
     "metadata": {},
     "output_type": "execute_result"
    }
   ],
   "source": [
    "# Check for outliers in revenue for PG-13 movies\n",
    "zscores= stats.zscore(revPG13)\n",
    "outliers = abs(zscores)>3\n",
    "np.sum(outliers)"
   ]
  },
  {
   "cell_type": "code",
   "execution_count": 30,
   "id": "5138186d",
   "metadata": {},
   "outputs": [
    {
     "data": {
      "text/plain": [
       "3225"
      ]
     },
     "execution_count": 30,
     "metadata": {},
     "output_type": "execute_result"
    }
   ],
   "source": [
    "len(revPG13)"
   ]
  },
  {
   "cell_type": "code",
   "execution_count": 31,
   "id": "67649927",
   "metadata": {},
   "outputs": [],
   "source": [
    "# remove outliers from PG-13 movies\n",
    "revPG13 = revPG13[(np.abs(stats.zscore(revPG13)) <= 3)]"
   ]
  },
  {
   "cell_type": "code",
   "execution_count": 32,
   "id": "42dbf229",
   "metadata": {},
   "outputs": [
    {
     "data": {
      "text/plain": [
       "3140"
      ]
     },
     "execution_count": 32,
     "metadata": {},
     "output_type": "execute_result"
    }
   ],
   "source": [
    "# Confirm the 85 outliers were removed from PG-13 movies\n",
    "len(revPG13)"
   ]
  },
  {
   "cell_type": "markdown",
   "id": "e234d973",
   "metadata": {},
   "source": [
    "### Normality Assumption"
   ]
  },
  {
   "cell_type": "code",
   "execution_count": 33,
   "id": "4c42b19f",
   "metadata": {},
   "outputs": [],
   "source": [
    "# selecting only G/PG/PG-13/R movies\n",
    "MPAA = ['R', 'PG-13', 'PG', 'G']\n",
    "dfMPAA = df[df['certification'].isin(MPAA)]"
   ]
  },
  {
   "cell_type": "code",
   "execution_count": 34,
   "id": "d56483f5",
   "metadata": {},
   "outputs": [
    {
     "data": {
      "text/plain": [
       "dict_keys(['PG', 'R', 'G', 'PG-13'])"
      ]
     },
     "execution_count": 34,
     "metadata": {},
     "output_type": "execute_result"
    }
   ],
   "source": [
    "## Create groups dictionary.\n",
    "groups = {}\n",
    "## Loop through all unique categories\n",
    "for cert in dfMPAA['certification'].unique():\n",
    "    ## Get series for group and rename\n",
    "    data = dfMPAA.loc[dfMPAA['certification']==cert,'revenue'].copy()\n",
    "    \n",
    "    # save into the dictionary\n",
    "    groups[cert] = data\n",
    "groups.keys()"
   ]
  },
  {
   "cell_type": "code",
   "execution_count": 35,
   "id": "4fe663d3",
   "metadata": {},
   "outputs": [
    {
     "data": {
      "text/html": [
       "<div>\n",
       "<style scoped>\n",
       "    .dataframe tbody tr th:only-of-type {\n",
       "        vertical-align: middle;\n",
       "    }\n",
       "\n",
       "    .dataframe tbody tr th {\n",
       "        vertical-align: top;\n",
       "    }\n",
       "\n",
       "    .dataframe thead th {\n",
       "        text-align: right;\n",
       "    }\n",
       "</style>\n",
       "<table border=\"1\" class=\"dataframe\">\n",
       "  <thead>\n",
       "    <tr style=\"text-align: right;\">\n",
       "      <th></th>\n",
       "      <th>n</th>\n",
       "      <th>p</th>\n",
       "      <th>test stat</th>\n",
       "      <th>sig</th>\n",
       "    </tr>\n",
       "  </thead>\n",
       "  <tbody>\n",
       "    <tr>\n",
       "      <th>PG</th>\n",
       "      <td>1432.0</td>\n",
       "      <td>2.411489e-270</td>\n",
       "      <td>1241.635462</td>\n",
       "      <td>True</td>\n",
       "    </tr>\n",
       "    <tr>\n",
       "      <th>R</th>\n",
       "      <td>6098.0</td>\n",
       "      <td>0.000000e+00</td>\n",
       "      <td>7617.064476</td>\n",
       "      <td>True</td>\n",
       "    </tr>\n",
       "    <tr>\n",
       "      <th>G</th>\n",
       "      <td>442.0</td>\n",
       "      <td>1.470598e-112</td>\n",
       "      <td>515.007723</td>\n",
       "      <td>True</td>\n",
       "    </tr>\n",
       "    <tr>\n",
       "      <th>PG-13</th>\n",
       "      <td>3225.0</td>\n",
       "      <td>0.000000e+00</td>\n",
       "      <td>3525.252873</td>\n",
       "      <td>True</td>\n",
       "    </tr>\n",
       "  </tbody>\n",
       "</table>\n",
       "</div>"
      ],
      "text/plain": [
       "            n              p    test stat   sig\n",
       "PG     1432.0  2.411489e-270  1241.635462  True\n",
       "R      6098.0   0.000000e+00  7617.064476  True\n",
       "G       442.0  1.470598e-112   515.007723  True\n",
       "PG-13  3225.0   0.000000e+00  3525.252873  True"
      ]
     },
     "execution_count": 35,
     "metadata": {},
     "output_type": "execute_result"
    }
   ],
   "source": [
    "## Running normal test on each group and confirming there are >20 in each group\n",
    "norm_results = {}\n",
    "for certification, data in groups.items():\n",
    "    stat, p = stats.normaltest(data)\n",
    "    ## save the p val, test statistic, and the size of the group\n",
    "    norm_results[certification] = {'n': len(data),\n",
    "                             'p':p,\n",
    "                             'test stat':stat,}\n",
    "## convert to a dataframe\n",
    "norm_results_df = pd.DataFrame(norm_results).T\n",
    "norm_results_df['sig'] = norm_results_df['p'] < alpha \n",
    "norm_results_df"
   ]
  },
  {
   "cell_type": "markdown",
   "id": "13ec4580",
   "metadata": {},
   "source": [
    "Since our p-values are all (significantly) less than alpha (0.05), we don't have any normal distributions. However, our groups sizes are sufficiently large enough that we can ignore the normality assumption."
   ]
  },
  {
   "cell_type": "markdown",
   "id": "b3f1aa08",
   "metadata": {},
   "source": [
    "### Equal Variance Assumption"
   ]
  },
  {
   "cell_type": "code",
   "execution_count": 36,
   "id": "224d8700",
   "metadata": {},
   "outputs": [
    {
     "data": {
      "text/plain": [
       "LeveneResult(statistic=157.97514308771898, pvalue=2.7493180163559454e-100)"
      ]
     },
     "execution_count": 36,
     "metadata": {},
     "output_type": "execute_result"
    }
   ],
   "source": [
    "stats.levene(*groups.values())"
   ]
  },
  {
   "cell_type": "markdown",
   "id": "0dee0137",
   "metadata": {},
   "source": [
    "Since we failed the test assumption of equal variance, we use the nonparametric Kruskal-Wallis test."
   ]
  },
  {
   "cell_type": "markdown",
   "id": "08f9364f",
   "metadata": {},
   "source": [
    "### Test Result and Visualization"
   ]
  },
  {
   "cell_type": "code",
   "execution_count": 39,
   "id": "1b6dac6b",
   "metadata": {},
   "outputs": [
    {
     "data": {
      "text/plain": [
       "KruskalResult(statistic=446.52199911028526, pvalue=1.848462866056596e-96)"
      ]
     },
     "execution_count": 39,
     "metadata": {},
     "output_type": "execute_result"
    }
   ],
   "source": [
    "result = stats.kruskal(*groups.values())\n",
    "result"
   ]
  },
  {
   "cell_type": "markdown",
   "id": "48a3c972",
   "metadata": {},
   "source": [
    "Since our p-value is (significantly) less than alpha, we reject the null hypothesis and find there is a significant statistical difference between the revenue generated by movies with different MPAA ratings."
   ]
  },
  {
   "cell_type": "code",
   "execution_count": 38,
   "id": "1285dc3b",
   "metadata": {},
   "outputs": [
    {
     "name": "stderr",
     "output_type": "stream",
     "text": [
      "/var/folders/50/3xbvh4ss3131ch53yqb8sydr0000gn/T/ipykernel_44213/3682219635.py:7: UserWarning: FixedFormatter should only be used together with FixedLocator\n",
      "  g.set_yticklabels(ylabels)\n"
     ]
    },
    {
     "data": {
      "image/png": "[encoded data removed]",
      "text/plain": [
       "<Figure size 640x480 with 1 Axes>"
      ]
     },
     "metadata": {},
     "output_type": "display_data"
    }
   ],
   "source": [
    "\n",
    "# Visualizationg=sns.barplot(data=dfMPAA, y='revenue', x='certification')\n",
    "plt.title('Average Revenue per MPAA Rating')\n",
    "plt.ylabel('Revenue')\n",
    "plt.xlabel('MPAA Rating')\n",
    "plt.ticklabel_format(style='plain',axis='y')\n",
    "ylabels = ['$' + '{:,.0f}'.format(y) + 'M' for y in g.get_yticks()/1000000]\n",
    "g.set_yticklabels(ylabels)\n",
    "plt.show()"
   ]
  },
  {
   "cell_type": "code",
   "execution_count": 41,
   "id": "66ecf4c8",
   "metadata": {},
   "outputs": [
    {
     "data": {
      "text/plain": [
       "certification\n",
       "PG-13    7.301722e+07\n",
       "PG       6.846710e+07\n",
       "G        3.495188e+07\n",
       "R        1.629736e+07\n",
       "Name: revenue, dtype: float64"
      ]
     },
     "execution_count": 41,
     "metadata": {},
     "output_type": "execute_result"
    }
   ],
   "source": [
    "dfMPAA.groupby('certification')['revenue'].mean().sort_values(ascending=False)"
   ]
  },
  {
   "cell_type": "markdown",
   "id": "29e3d974",
   "metadata": {},
   "source": [
    "The rating which earns the most revenue on average is PG-13 with $73,017,220."
   ]
  },
  {
   "cell_type": "code",
   "execution_count": 42,
   "id": "fcd0b411",
   "metadata": {},
   "outputs": [],
   "source": [
    "from statsmodels.stats.multicomp import pairwise_tukeyhsd\n",
    "## save the values as revenue and the labels to the MPAA rating\n",
    "values = dfMPAA['revenue']\n",
    "labels = dfMPAA['certification']"
   ]
  },
  {
   "cell_type": "code",
   "execution_count": 43,
   "id": "c13a2ec7",
   "metadata": {},
   "outputs": [
    {
     "data": {
      "text/html": [
       "<table class=\"simpletable\">\n",
       "<caption>Multiple Comparison of Means - Tukey HSD, FWER=0.05</caption>\n",
       "<tr>\n",
       "  <th>group1</th> <th>group2</th>    <th>meandiff</th>     <th>p-adj</th>      <th>lower</th>          <th>upper</th>     <th>reject</th>\n",
       "</tr>\n",
       "<tr>\n",
       "     <td>G</td>     <td>PG</td>    <td>33515217.803</td>    <td>0.0</td>   <td>15216493.2537</td>  <td>51813942.3523</td>  <td>True</td> \n",
       "</tr>\n",
       "<tr>\n",
       "     <td>G</td>    <td>PG-13</td>  <td>38065338.2824</td>   <td>0.0</td>   <td>21008515.7462</td>  <td>55122160.8186</td>  <td>True</td> \n",
       "</tr>\n",
       "<tr>\n",
       "     <td>G</td>      <td>R</td>   <td>-18654517.4529</td>  <td>0.02</td>   <td>-35219946.918</td>  <td>-2089087.9878</td>  <td>True</td> \n",
       "</tr>\n",
       "<tr>\n",
       "    <td>PG</td>    <td>PG-13</td>  <td>4550120.4794</td>  <td>0.6928</td>  <td>-6128998.3891</td>  <td>15229239.3478</td>  <td>False</td>\n",
       "</tr>\n",
       "<tr>\n",
       "    <td>PG</td>      <td>R</td>   <td>-52169735.2559</td>   <td>0.0</td>  <td>-62045049.8403</td> <td>-42294420.6716</td>  <td>True</td> \n",
       "</tr>\n",
       "<tr>\n",
       "   <td>PG-13</td>    <td>R</td>   <td>-56719855.7353</td>   <td>0.0</td>  <td>-64041994.2917</td> <td>-49397717.1789</td>  <td>True</td> \n",
       "</tr>\n",
       "</table>"
      ],
      "text/plain": [
       "<class 'statsmodels.iolib.table.SimpleTable'>"
      ]
     },
     "execution_count": 43,
     "metadata": {},
     "output_type": "execute_result"
    }
   ],
   "source": [
    "## perform tukey's multiple comparison test and display the summary\n",
    "tukeys_results = pairwise_tukeyhsd(values,labels)\n",
    "tukeys_results.summary()"
   ]
  },
  {
   "cell_type": "markdown",
   "id": "f838c7d0",
   "metadata": {},
   "source": [
    "## How does the budget for movies that are over 2 hours long compare with movies that are less than or equal to 2 hours?"
   ]
  },
  {
   "cell_type": "code",
   "execution_count": 65,
   "id": "d5943570",
   "metadata": {},
   "outputs": [],
   "source": [
    "# define a function that returns 'Over 2 hours' or '2 hours or less'\n",
    "def RT(runtime):\n",
    "    if runtime > 120:    \n",
    "        return 'Over 2 hours'  \n",
    "    else:    \n",
    "        return '2 hours or less'"
   ]
  },
  {
   "cell_type": "code",
   "execution_count": 66,
   "id": "775c703a",
   "metadata": {},
   "outputs": [
    {
     "data": {
      "text/html": [
       "<div>\n",
       "<style scoped>\n",
       "    .dataframe tbody tr th:only-of-type {\n",
       "        vertical-align: middle;\n",
       "    }\n",
       "\n",
       "    .dataframe tbody tr th {\n",
       "        vertical-align: top;\n",
       "    }\n",
       "\n",
       "    .dataframe thead th {\n",
       "        text-align: right;\n",
       "    }\n",
       "</style>\n",
       "<table border=\"1\" class=\"dataframe\">\n",
       "  <thead>\n",
       "    <tr style=\"text-align: right;\">\n",
       "      <th></th>\n",
       "      <th>imdb_id</th>\n",
       "      <th>adult</th>\n",
       "      <th>backdrop_path</th>\n",
       "      <th>belongs_to_collection</th>\n",
       "      <th>budget</th>\n",
       "      <th>genres</th>\n",
       "      <th>homepage</th>\n",
       "      <th>id</th>\n",
       "      <th>original_language</th>\n",
       "      <th>original_title</th>\n",
       "      <th>...</th>\n",
       "      <th>runtime</th>\n",
       "      <th>spoken_languages</th>\n",
       "      <th>status</th>\n",
       "      <th>tagline</th>\n",
       "      <th>title</th>\n",
       "      <th>video</th>\n",
       "      <th>vote_average</th>\n",
       "      <th>vote_count</th>\n",
       "      <th>certification</th>\n",
       "      <th>year</th>\n",
       "    </tr>\n",
       "  </thead>\n",
       "  <tbody>\n",
       "    <tr>\n",
       "      <th>0</th>\n",
       "      <td>tt0113026</td>\n",
       "      <td>0.0</td>\n",
       "      <td>/vMFs7nw6P0bIV1jDsQpxAieAVnH.jpg</td>\n",
       "      <td>NaN</td>\n",
       "      <td>10000000.0</td>\n",
       "      <td>[{'id': 35, 'name': 'Comedy'}, {'id': 10402, '...</td>\n",
       "      <td>NaN</td>\n",
       "      <td>62127.0</td>\n",
       "      <td>en</td>\n",
       "      <td>The Fantasticks</td>\n",
       "      <td>...</td>\n",
       "      <td>2 hours or less</td>\n",
       "      <td>[{'english_name': 'English', 'iso_639_1': 'en'...</td>\n",
       "      <td>Released</td>\n",
       "      <td>Try to remember the first time magic happened</td>\n",
       "      <td>The Fantasticks</td>\n",
       "      <td>0.0</td>\n",
       "      <td>5.4</td>\n",
       "      <td>21.0</td>\n",
       "      <td>NR</td>\n",
       "      <td>Neither 2018 nor 2020</td>\n",
       "    </tr>\n",
       "    <tr>\n",
       "      <th>1</th>\n",
       "      <td>tt0113092</td>\n",
       "      <td>0.0</td>\n",
       "      <td>NaN</td>\n",
       "      <td>NaN</td>\n",
       "      <td>0.0</td>\n",
       "      <td>[{'id': 878, 'name': 'Science Fiction'}]</td>\n",
       "      <td>NaN</td>\n",
       "      <td>110977.0</td>\n",
       "      <td>en</td>\n",
       "      <td>For the Cause</td>\n",
       "      <td>...</td>\n",
       "      <td>2 hours or less</td>\n",
       "      <td>[{'english_name': 'English', 'iso_639_1': 'en'...</td>\n",
       "      <td>Released</td>\n",
       "      <td>The ultimate showdown on a forbidden planet.</td>\n",
       "      <td>For the Cause</td>\n",
       "      <td>0.0</td>\n",
       "      <td>4.4</td>\n",
       "      <td>7.0</td>\n",
       "      <td>NR</td>\n",
       "      <td>Neither 2018 nor 2020</td>\n",
       "    </tr>\n",
       "    <tr>\n",
       "      <th>2</th>\n",
       "      <td>tt0116391</td>\n",
       "      <td>0.0</td>\n",
       "      <td>NaN</td>\n",
       "      <td>NaN</td>\n",
       "      <td>0.0</td>\n",
       "      <td>[{'id': 18, 'name': 'Drama'}, {'id': 28, 'name...</td>\n",
       "      <td>NaN</td>\n",
       "      <td>442869.0</td>\n",
       "      <td>hi</td>\n",
       "      <td>Gang</td>\n",
       "      <td>...</td>\n",
       "      <td>Over 2 hours</td>\n",
       "      <td>[{'english_name': 'Hindi', 'iso_639_1': 'hi', ...</td>\n",
       "      <td>Released</td>\n",
       "      <td>NaN</td>\n",
       "      <td>Gang</td>\n",
       "      <td>0.0</td>\n",
       "      <td>0.0</td>\n",
       "      <td>0.0</td>\n",
       "      <td>NR</td>\n",
       "      <td>Neither 2018 nor 2020</td>\n",
       "    </tr>\n",
       "    <tr>\n",
       "      <th>3</th>\n",
       "      <td>tt0118694</td>\n",
       "      <td>0.0</td>\n",
       "      <td>/n4GJFGzsc7NinI1VeGDXIcQjtU2.jpg</td>\n",
       "      <td>NaN</td>\n",
       "      <td>150000.0</td>\n",
       "      <td>[{'id': 18, 'name': 'Drama'}, {'id': 10749, 'n...</td>\n",
       "      <td>http://www.wkw-inthemoodforlove.com/</td>\n",
       "      <td>843.0</td>\n",
       "      <td>cn</td>\n",
       "      <td>花樣年華</td>\n",
       "      <td>...</td>\n",
       "      <td>2 hours or less</td>\n",
       "      <td>[{'english_name': 'Cantonese', 'iso_639_1': 'c...</td>\n",
       "      <td>Released</td>\n",
       "      <td>Feel the heat, keep the feeling burning, let t...</td>\n",
       "      <td>In the Mood for Love</td>\n",
       "      <td>0.0</td>\n",
       "      <td>8.1</td>\n",
       "      <td>1868.0</td>\n",
       "      <td>PG</td>\n",
       "      <td>Neither 2018 nor 2020</td>\n",
       "    </tr>\n",
       "    <tr>\n",
       "      <th>4</th>\n",
       "      <td>tt0118852</td>\n",
       "      <td>0.0</td>\n",
       "      <td>NaN</td>\n",
       "      <td>NaN</td>\n",
       "      <td>0.0</td>\n",
       "      <td>[{'id': 18, 'name': 'Drama'}]</td>\n",
       "      <td>NaN</td>\n",
       "      <td>49511.0</td>\n",
       "      <td>en</td>\n",
       "      <td>Chinese Coffee</td>\n",
       "      <td>...</td>\n",
       "      <td>2 hours or less</td>\n",
       "      <td>[{'english_name': 'English', 'iso_639_1': 'en'...</td>\n",
       "      <td>Released</td>\n",
       "      <td>There's a fine line between friendship and bet...</td>\n",
       "      <td>Chinese Coffee</td>\n",
       "      <td>0.0</td>\n",
       "      <td>6.9</td>\n",
       "      <td>46.0</td>\n",
       "      <td>R</td>\n",
       "      <td>Neither 2018 nor 2020</td>\n",
       "    </tr>\n",
       "  </tbody>\n",
       "</table>\n",
       "<p>5 rows × 27 columns</p>\n",
       "</div>"
      ],
      "text/plain": [
       "     imdb_id  adult                     backdrop_path belongs_to_collection  \\\n",
       "0  tt0113026    0.0  /vMFs7nw6P0bIV1jDsQpxAieAVnH.jpg                   NaN   \n",
       "1  tt0113092    0.0                               NaN                   NaN   \n",
       "2  tt0116391    0.0                               NaN                   NaN   \n",
       "3  tt0118694    0.0  /n4GJFGzsc7NinI1VeGDXIcQjtU2.jpg                   NaN   \n",
       "4  tt0118852    0.0                               NaN                   NaN   \n",
       "\n",
       "       budget                                             genres  \\\n",
       "0  10000000.0  [{'id': 35, 'name': 'Comedy'}, {'id': 10402, '...   \n",
       "1         0.0           [{'id': 878, 'name': 'Science Fiction'}]   \n",
       "2         0.0  [{'id': 18, 'name': 'Drama'}, {'id': 28, 'name...   \n",
       "3    150000.0  [{'id': 18, 'name': 'Drama'}, {'id': 10749, 'n...   \n",
       "4         0.0                      [{'id': 18, 'name': 'Drama'}]   \n",
       "\n",
       "                               homepage        id original_language  \\\n",
       "0                                   NaN   62127.0                en   \n",
       "1                                   NaN  110977.0                en   \n",
       "2                                   NaN  442869.0                hi   \n",
       "3  http://www.wkw-inthemoodforlove.com/     843.0                cn   \n",
       "4                                   NaN   49511.0                en   \n",
       "\n",
       "    original_title  ...          runtime  \\\n",
       "0  The Fantasticks  ...  2 hours or less   \n",
       "1    For the Cause  ...  2 hours or less   \n",
       "2             Gang  ...     Over 2 hours   \n",
       "3             花樣年華  ...  2 hours or less   \n",
       "4   Chinese Coffee  ...  2 hours or less   \n",
       "\n",
       "                                    spoken_languages    status  \\\n",
       "0  [{'english_name': 'English', 'iso_639_1': 'en'...  Released   \n",
       "1  [{'english_name': 'English', 'iso_639_1': 'en'...  Released   \n",
       "2  [{'english_name': 'Hindi', 'iso_639_1': 'hi', ...  Released   \n",
       "3  [{'english_name': 'Cantonese', 'iso_639_1': 'c...  Released   \n",
       "4  [{'english_name': 'English', 'iso_639_1': 'en'...  Released   \n",
       "\n",
       "                                             tagline                 title  \\\n",
       "0      Try to remember the first time magic happened       The Fantasticks   \n",
       "1       The ultimate showdown on a forbidden planet.         For the Cause   \n",
       "2                                                NaN                  Gang   \n",
       "3  Feel the heat, keep the feeling burning, let t...  In the Mood for Love   \n",
       "4  There's a fine line between friendship and bet...        Chinese Coffee   \n",
       "\n",
       "  video  vote_average vote_count certification                   year  \n",
       "0   0.0           5.4       21.0            NR  Neither 2018 nor 2020  \n",
       "1   0.0           4.4        7.0            NR  Neither 2018 nor 2020  \n",
       "2   0.0           0.0        0.0            NR  Neither 2018 nor 2020  \n",
       "3   0.0           8.1     1868.0            PG  Neither 2018 nor 2020  \n",
       "4   0.0           6.9       46.0             R  Neither 2018 nor 2020  \n",
       "\n",
       "[5 rows x 27 columns]"
      ]
     },
     "execution_count": 66,
     "metadata": {},
     "output_type": "execute_result"
    }
   ],
   "source": [
    "# apply RT() function to each item in the 'runtime' column\n",
    "df['runtime'] = df['runtime'].apply(RT)\n",
    "df.head()"
   ]
  },
  {
   "cell_type": "code",
   "execution_count": 67,
   "id": "79006058",
   "metadata": {},
   "outputs": [
    {
     "data": {
      "text/plain": [
       "2 hours or less    54339\n",
       "Over 2 hours        5791\n",
       "Name: runtime, dtype: int64"
      ]
     },
     "execution_count": 67,
     "metadata": {},
     "output_type": "execute_result"
    }
   ],
   "source": [
    "# see the runtime frequencies after feature engineering\n",
    "df['runtime'].value_counts()"
   ]
  },
  {
   "cell_type": "markdown",
   "id": "80125ebb",
   "metadata": {},
   "source": [
    "- Null hypothesis: There is no significant statistical difference between the budget spent on movies based on runtime.\n",
    "\n",
    "- Alternate hypothesis: There is a significant statistical difference between the budget spent on movies based on runtime.\n",
    "\n",
    "Since we are comparing numerical data between 2 categories, we are going to use a 2 Sample T-test."
   ]
  },
  {
   "cell_type": "code",
   "execution_count": 70,
   "id": "279b12ef",
   "metadata": {},
   "outputs": [],
   "source": [
    "# Filtering out movies by runtime\n",
    "df_short = df.loc[df['runtime']=='2 hours or less'].copy()\n",
    "df_long = df.loc[df['runtime']=='Over 2 hours'].copy()"
   ]
  },
  {
   "cell_type": "code",
   "execution_count": 71,
   "id": "3abbd41d",
   "metadata": {},
   "outputs": [],
   "source": [
    "# Slicing budget data\n",
    "BLong = df_long['budget']\n",
    "BShort = df_short['budget']"
   ]
  },
  {
   "cell_type": "markdown",
   "id": "0b4e155f",
   "metadata": {},
   "source": [
    "### Outlier Assumption"
   ]
  },
  {
   "cell_type": "code",
   "execution_count": 72,
   "id": "fbd238b3",
   "metadata": {},
   "outputs": [
    {
     "data": {
      "text/plain": [
       "178"
      ]
     },
     "execution_count": 72,
     "metadata": {},
     "output_type": "execute_result"
    }
   ],
   "source": [
    "# Check for outliers in budget for over 2-hour long movies\n",
    "zscores= stats.zscore(BLong)\n",
    "outliers = abs(zscores)>3\n",
    "np.sum(outliers)"
   ]
  },
  {
   "cell_type": "code",
   "execution_count": 73,
   "id": "c1e58053",
   "metadata": {},
   "outputs": [
    {
     "data": {
      "text/plain": [
       "5791"
      ]
     },
     "execution_count": 73,
     "metadata": {},
     "output_type": "execute_result"
    }
   ],
   "source": [
    "len(BLong)"
   ]
  },
  {
   "cell_type": "code",
   "execution_count": 76,
   "id": "a350f4ab",
   "metadata": {},
   "outputs": [],
   "source": [
    "# remove outliers from over 2-hour long movies\n",
    "BLong = BLong[(np.abs(stats.zscore(BLong)) <= 3)]"
   ]
  },
  {
   "cell_type": "code",
   "execution_count": 77,
   "id": "ee1ad2bc",
   "metadata": {},
   "outputs": [
    {
     "data": {
      "text/plain": [
       "5613"
      ]
     },
     "execution_count": 77,
     "metadata": {},
     "output_type": "execute_result"
    }
   ],
   "source": [
    "# Confirm the 178 outliers were removed from over 2-hour long movies\n",
    "len(BLong)"
   ]
  },
  {
   "cell_type": "code",
   "execution_count": 78,
   "id": "4e35a5f1",
   "metadata": {},
   "outputs": [
    {
     "data": {
      "text/plain": [
       "934"
      ]
     },
     "execution_count": 78,
     "metadata": {},
     "output_type": "execute_result"
    }
   ],
   "source": [
    "# Check for outliers in budget for 2-hour or less movies\n",
    "zscores= stats.zscore(BShort)\n",
    "outliers = abs(zscores)>3\n",
    "np.sum(outliers)"
   ]
  },
  {
   "cell_type": "code",
   "execution_count": 79,
   "id": "0b0d7d06",
   "metadata": {},
   "outputs": [
    {
     "data": {
      "text/plain": [
       "54339"
      ]
     },
     "execution_count": 79,
     "metadata": {},
     "output_type": "execute_result"
    }
   ],
   "source": [
    "len(BShort)"
   ]
  },
  {
   "cell_type": "code",
   "execution_count": 80,
   "id": "1203ef1c",
   "metadata": {},
   "outputs": [],
   "source": [
    "# remove outliers from 2-hour or less movies\n",
    "BShort = BShort[(np.abs(stats.zscore(BShort)) <= 3)]"
   ]
  },
  {
   "cell_type": "code",
   "execution_count": 81,
   "id": "de708f8d",
   "metadata": {},
   "outputs": [
    {
     "data": {
      "text/plain": [
       "53405"
      ]
     },
     "execution_count": 81,
     "metadata": {},
     "output_type": "execute_result"
    }
   ],
   "source": [
    "# Confirm the 934 outliers were removed from 2-hour or less movies\n",
    "len(BShort)"
   ]
  },
  {
   "cell_type": "markdown",
   "id": "44d4bcd6",
   "metadata": {},
   "source": [
    "### Normality Assumption"
   ]
  },
  {
   "cell_type": "code",
   "execution_count": 82,
   "id": "cea4ec04",
   "metadata": {},
   "outputs": [
    {
     "data": {
      "text/plain": [
       "NormaltestResult(statistic=4253.997054132695, pvalue=0.0)"
      ]
     },
     "execution_count": 82,
     "metadata": {},
     "output_type": "execute_result"
    }
   ],
   "source": [
    "# test over 2-hour long movies for normality\n",
    "result_BLong = stats.normaltest(BLong)\n",
    "result_BLong"
   ]
  },
  {
   "cell_type": "code",
   "execution_count": 83,
   "id": "8f032508",
   "metadata": {},
   "outputs": [
    {
     "data": {
      "text/plain": [
       "NormaltestResult(statistic=57642.616474331175, pvalue=0.0)"
      ]
     },
     "execution_count": 83,
     "metadata": {},
     "output_type": "execute_result"
    }
   ],
   "source": [
    "# test 2-hour or less movies for normality\n",
    "result_BShort = stats.normaltest(BShort)\n",
    "result_BShort"
   ]
  },
  {
   "cell_type": "markdown",
   "id": "7c8b2fc5",
   "metadata": {},
   "source": [
    "Both p-values are well below alpha, which means our data are NOT normally distributed. However, our group sizes are large enough (greater than 15) to proceed without satisfying this assumption."
   ]
  },
  {
   "cell_type": "markdown",
   "id": "c9c3dc9e",
   "metadata": {},
   "source": [
    "### Equal Variance Assumption"
   ]
  },
  {
   "cell_type": "code",
   "execution_count": 84,
   "id": "2549d367",
   "metadata": {},
   "outputs": [
    {
     "data": {
      "text/plain": [
       "LeveneResult(statistic=3083.2989394119613, pvalue=0.0)"
      ]
     },
     "execution_count": 84,
     "metadata": {},
     "output_type": "execute_result"
    }
   ],
   "source": [
    "# Test for equal variance\n",
    "result = stats.levene(BLong,BShort)\n",
    "result"
   ]
  },
  {
   "cell_type": "markdown",
   "id": "b8df53c1",
   "metadata": {},
   "source": [
    "Since our p-value is below alpha for the Levene test, our groups do not have equal variance."
   ]
  },
  {
   "cell_type": "markdown",
   "id": "9e92e409",
   "metadata": {},
   "source": [
    "### Test Result and Visualization"
   ]
  },
  {
   "cell_type": "markdown",
   "id": "2ef27e71",
   "metadata": {},
   "source": [
    "We still run the t-test, but we just set equal_var = False"
   ]
  },
  {
   "cell_type": "code",
   "execution_count": 85,
   "id": "25d07951",
   "metadata": {},
   "outputs": [
    {
     "data": {
      "text/plain": [
       "Ttest_indResult(statistic=22.37897304667703, pvalue=2.2257568786351285e-106)"
      ]
     },
     "execution_count": 85,
     "metadata": {},
     "output_type": "execute_result"
    }
   ],
   "source": [
    "## Final Independent t-test with equal_var set to False\n",
    "result = stats.ttest_ind(BLong,BShort, equal_var = False)\n",
    "result"
   ]
  },
  {
   "cell_type": "markdown",
   "id": "91f9ba0d",
   "metadata": {},
   "source": [
    "Our Welch's T-Test returned a p-value less than alpha, so we reject the null hypothesis and accept that there is a significant statistical difference between the budget spent on movies based on runtime."
   ]
  },
  {
   "cell_type": "code",
   "execution_count": 87,
   "id": "1caef955",
   "metadata": {},
   "outputs": [
    {
     "name": "stderr",
     "output_type": "stream",
     "text": [
      "/var/folders/50/3xbvh4ss3131ch53yqb8sydr0000gn/T/ipykernel_44213/4247955599.py:7: UserWarning: FixedFormatter should only be used together with FixedLocator\n",
      "  g.set_yticklabels(ylabels)\n"
     ]
    },
    {
     "data": {
      "image/png": "[encoded data removed]",
      "text/plain": [
       "<Figure size 640x480 with 1 Axes>"
      ]
     },
     "metadata": {},
     "output_type": "display_data"
    }
   ],
   "source": [
    "g=sns.barplot(data=df, y='budget', x='runtime')\n",
    "plt.title('Average budget spent on movies based on runtime')\n",
    "plt.ylabel('Budget')\n",
    "plt.xlabel('Movie Length')\n",
    "plt.ticklabel_format(style='plain',axis='y')\n",
    "ylabels = ['$' + '{:,.0f}'.format(y) + 'M' for y in g.get_yticks()/1000000]\n",
    "g.set_yticklabels(ylabels)\n",
    "plt.show()"
   ]
  },
  {
   "cell_type": "code",
   "execution_count": 89,
   "id": "2503dba6",
   "metadata": {},
   "outputs": [
    {
     "data": {
      "text/plain": [
       "runtime\n",
       "2 hours or less    2.275707e+06\n",
       "Over 2 hours       1.125069e+07\n",
       "Name: budget, dtype: float64"
      ]
     },
     "execution_count": 89,
     "metadata": {},
     "output_type": "execute_result"
    }
   ],
   "source": [
    "df.groupby('runtime')['budget'].mean()"
   ]
  },
  {
   "cell_type": "code",
   "execution_count": null,
   "id": "dd3924c7",
   "metadata": {},
   "outputs": [],
   "source": [
    "On average, movies with runtime of:\n",
    "- 2 hours or less spent $2,275,707\n",
    "- Over 2 hours spent \\$11,250,690"
   ]
  },
  {
   "cell_type": "markdown",
   "id": "6c205f48",
   "metadata": {},
   "source": [
    "## Do movies released in 2020 earn less revenue than movies released in 2018?"
   ]
  },
  {
   "cell_type": "code",
   "execution_count": 44,
   "id": "ef5f67bc",
   "metadata": {},
   "outputs": [
    {
     "data": {
      "text/plain": [
       "NaN           1052\n",
       "2009-01-01     265\n",
       "2010-01-01     244\n",
       "2008-01-01     232\n",
       "2011-01-01     209\n",
       "              ... \n",
       "2003-04-05       1\n",
       "2003-03-19       1\n",
       "2003-12-16       1\n",
       "2003-06-09       1\n",
       "2022-08-31       1\n",
       "Name: release_date, Length: 7634, dtype: int64"
      ]
     },
     "execution_count": 44,
     "metadata": {},
     "output_type": "execute_result"
    }
   ],
   "source": [
    "## Checking Release Date values\n",
    "df['release_date'].value_counts(dropna=False)"
   ]
  },
  {
   "cell_type": "code",
   "execution_count": 45,
   "id": "28946f0f",
   "metadata": {},
   "outputs": [
    {
     "data": {
      "text/plain": [
       "2019.0    4593\n",
       "2018.0    4392\n",
       "2017.0    4181\n",
       "2016.0    3722\n",
       "2021.0    3656\n",
       "2020.0    3655\n",
       "2015.0    3625\n",
       "2014.0    3588\n",
       "2013.0    3432\n",
       "2012.0    3125\n",
       "2011.0    2834\n",
       "2010.0    2418\n",
       "2009.0    2262\n",
       "2008.0    2025\n",
       "2007.0    1823\n",
       "2006.0    1725\n",
       "2005.0    1538\n",
       "2004.0    1391\n",
       "2001.0    1239\n",
       "2003.0    1238\n",
       "2002.0    1214\n",
       "2000.0    1109\n",
       "NaN       1052\n",
       "2022.0     247\n",
       "1999.0      23\n",
       "1995.0       5\n",
       "1998.0       4\n",
       "1997.0       4\n",
       "1996.0       2\n",
       "1990.0       2\n",
       "1973.0       1\n",
       "1988.0       1\n",
       "1977.0       1\n",
       "1984.0       1\n",
       "1994.0       1\n",
       "1987.0       1\n",
       "Name: year, dtype: int64"
      ]
     },
     "execution_count": 45,
     "metadata": {},
     "output_type": "execute_result"
    }
   ],
   "source": [
    "df['release_date'] = pd.to_datetime(df['release_date'])\n",
    "df['year'] = df['release_date'].dt.year\n",
    "df['year'].value_counts(dropna=False)"
   ]
  },
  {
   "cell_type": "markdown",
   "id": "ed1fc98f",
   "metadata": {},
   "source": [
    "Null Hypothesis: There is no significant statistical difference between the revenue earned by movie released in 2018 and 2020.\n",
    "\n",
    "Alternate Hypothesis: Movies released in 2020 statistically earn significantly less revenue than movies released in 2018."
   ]
  },
  {
   "cell_type": "markdown",
   "id": "be24580f",
   "metadata": {},
   "source": [
    "Since we are comparing numerical data between 2 groups, we will use a 2 Sample T-test."
   ]
  },
  {
   "cell_type": "code",
   "execution_count": 46,
   "id": "c531b29c",
   "metadata": {},
   "outputs": [],
   "source": [
    "# Filtering out 2018 and 2020 movies\n",
    "df18 = df.loc[df['year']== 2018].copy()\n",
    "df20 = df.loc[df['year']== 2020].copy()"
   ]
  },
  {
   "cell_type": "code",
   "execution_count": 47,
   "id": "775d38e0",
   "metadata": {},
   "outputs": [],
   "source": [
    "rev18 = df18['revenue']\n",
    "rev20 = df20['revenue']"
   ]
  },
  {
   "cell_type": "markdown",
   "id": "9f1f1e8f",
   "metadata": {},
   "source": [
    "### Outlier Assumption"
   ]
  },
  {
   "cell_type": "code",
   "execution_count": 48,
   "id": "2bdaa501",
   "metadata": {},
   "outputs": [
    {
     "data": {
      "text/plain": [
       "39"
      ]
     },
     "execution_count": 48,
     "metadata": {},
     "output_type": "execute_result"
    }
   ],
   "source": [
    "# Check for outliers in revenue for 2018 movies\n",
    "zscores= stats.zscore(rev18)\n",
    "outliers = abs(zscores)>3\n",
    "np.sum(outliers)"
   ]
  },
  {
   "cell_type": "code",
   "execution_count": 49,
   "id": "96bb9d1d",
   "metadata": {},
   "outputs": [
    {
     "data": {
      "text/plain": [
       "4392"
      ]
     },
     "execution_count": 49,
     "metadata": {},
     "output_type": "execute_result"
    }
   ],
   "source": [
    "len(rev18)"
   ]
  },
  {
   "cell_type": "code",
   "execution_count": 50,
   "id": "0dced0f0",
   "metadata": {},
   "outputs": [],
   "source": [
    "# remove outliers from 2018 movies\n",
    "rev18 = rev18[(np.abs(stats.zscore(rev18)) <= 3)]"
   ]
  },
  {
   "cell_type": "code",
   "execution_count": 51,
   "id": "a4bb89fb",
   "metadata": {},
   "outputs": [
    {
     "data": {
      "text/plain": [
       "4353"
      ]
     },
     "execution_count": 51,
     "metadata": {},
     "output_type": "execute_result"
    }
   ],
   "source": [
    "# Confirm the 39 outliers were removed\n",
    "len(rev18)"
   ]
  },
  {
   "cell_type": "code",
   "execution_count": 52,
   "id": "bff8442e",
   "metadata": {},
   "outputs": [
    {
     "data": {
      "text/plain": [
       "16"
      ]
     },
     "execution_count": 52,
     "metadata": {},
     "output_type": "execute_result"
    }
   ],
   "source": [
    "# Check for outliers in revenue for 2020 movies\n",
    "zscores= stats.zscore(rev20)\n",
    "outliers = abs(zscores)>3\n",
    "np.sum(outliers)"
   ]
  },
  {
   "cell_type": "code",
   "execution_count": 53,
   "id": "907f5fb5",
   "metadata": {},
   "outputs": [
    {
     "data": {
      "text/plain": [
       "3655"
      ]
     },
     "execution_count": 53,
     "metadata": {},
     "output_type": "execute_result"
    }
   ],
   "source": [
    "len(rev20)"
   ]
  },
  {
   "cell_type": "code",
   "execution_count": 54,
   "id": "0b21920c",
   "metadata": {},
   "outputs": [],
   "source": [
    "# remove outliers from 2020 movies\n",
    "rev20 = rev20[(np.abs(stats.zscore(rev20)) <= 3)]"
   ]
  },
  {
   "cell_type": "code",
   "execution_count": 55,
   "id": "2303e0e0",
   "metadata": {},
   "outputs": [
    {
     "data": {
      "text/plain": [
       "3639"
      ]
     },
     "execution_count": 55,
     "metadata": {},
     "output_type": "execute_result"
    }
   ],
   "source": [
    "# Confirm the 16 outliers were removed\n",
    "len(rev20)"
   ]
  },
  {
   "cell_type": "markdown",
   "id": "8bd766d4",
   "metadata": {},
   "source": [
    "### Normality Assumption"
   ]
  },
  {
   "cell_type": "code",
   "execution_count": 56,
   "id": "2a048097",
   "metadata": {},
   "outputs": [
    {
     "data": {
      "text/plain": [
       "NormaltestResult(statistic=6241.777409791572, pvalue=0.0)"
      ]
     },
     "execution_count": 56,
     "metadata": {},
     "output_type": "execute_result"
    }
   ],
   "source": [
    "# test 2018 movies for normality\n",
    "result_rev18 = stats.normaltest(rev18)\n",
    "result_rev18"
   ]
  },
  {
   "cell_type": "code",
   "execution_count": 57,
   "id": "f973a5b3",
   "metadata": {},
   "outputs": [
    {
     "data": {
      "text/plain": [
       "NormaltestResult(statistic=5903.743599241188, pvalue=0.0)"
      ]
     },
     "execution_count": 57,
     "metadata": {},
     "output_type": "execute_result"
    }
   ],
   "source": [
    "# test 2020 movies for normality\n",
    "result_rev20 = stats.normaltest(rev20)\n",
    "result_rev20"
   ]
  },
  {
   "cell_type": "markdown",
   "id": "2335f968",
   "metadata": {},
   "source": [
    "Both p-values are well below alpha, which means our data are NOT normally distributed. However, our group sizes are large enough (greater than 15) to proceed without satisfying this assumption."
   ]
  },
  {
   "cell_type": "markdown",
   "id": "64be43e9",
   "metadata": {},
   "source": [
    "### Equal Variance Assumption"
   ]
  },
  {
   "cell_type": "code",
   "execution_count": 58,
   "id": "db9a4aa4",
   "metadata": {},
   "outputs": [
    {
     "data": {
      "text/plain": [
       "LeveneResult(statistic=51.45914471215906, pvalue=7.96425610500166e-13)"
      ]
     },
     "execution_count": 58,
     "metadata": {},
     "output_type": "execute_result"
    }
   ],
   "source": [
    "# Test for equal variance\n",
    "result = stats.levene(rev18,rev20)\n",
    "result"
   ]
  },
  {
   "cell_type": "markdown",
   "id": "c8b63b82",
   "metadata": {},
   "source": [
    "Since our p-value is below alpha for the Levene test, our groups do not have equal variance."
   ]
  },
  {
   "cell_type": "markdown",
   "id": "c2c7b9da",
   "metadata": {},
   "source": [
    "### Test Result and Visualization"
   ]
  },
  {
   "cell_type": "markdown",
   "id": "b7cf32a9",
   "metadata": {},
   "source": [
    "We still run the t-test, but we just set equal_var = False"
   ]
  },
  {
   "cell_type": "code",
   "execution_count": 59,
   "id": "b421c84e",
   "metadata": {},
   "outputs": [
    {
     "data": {
      "text/plain": [
       "Ttest_indResult(statistic=7.7497165337126965, pvalue=1.1038292061656098e-14)"
      ]
     },
     "execution_count": 59,
     "metadata": {},
     "output_type": "execute_result"
    }
   ],
   "source": [
    "## Final Independent t-test with equal_var set to False\n",
    "result = stats.ttest_ind(rev18,rev20, equal_var = False)\n",
    "result"
   ]
  },
  {
   "cell_type": "markdown",
   "id": "fdb615ba",
   "metadata": {},
   "source": [
    "Our Welch's T-Test returned a p-value less than alpha, so we reject the null hypothesis and accept that movies released in 2020 statistically earn significantly less revenue than movies released in 2018."
   ]
  },
  {
   "cell_type": "code",
   "execution_count": 60,
   "id": "1c204285",
   "metadata": {},
   "outputs": [],
   "source": [
    "# define a function that returns '2018' or '2020'\n",
    "def year(year):\n",
    "    if year == 2018:    \n",
    "        return '2018'  \n",
    "    elif year == 2020:\n",
    "        return '2020'\n",
    "    else:    \n",
    "        return 'Neither 2018 nor 2020'"
   ]
  },
  {
   "cell_type": "code",
   "execution_count": 61,
   "id": "8efd74c6",
   "metadata": {},
   "outputs": [
    {
     "data": {
      "text/html": [
       "<div>\n",
       "<style scoped>\n",
       "    .dataframe tbody tr th:only-of-type {\n",
       "        vertical-align: middle;\n",
       "    }\n",
       "\n",
       "    .dataframe tbody tr th {\n",
       "        vertical-align: top;\n",
       "    }\n",
       "\n",
       "    .dataframe thead th {\n",
       "        text-align: right;\n",
       "    }\n",
       "</style>\n",
       "<table border=\"1\" class=\"dataframe\">\n",
       "  <thead>\n",
       "    <tr style=\"text-align: right;\">\n",
       "      <th></th>\n",
       "      <th>imdb_id</th>\n",
       "      <th>adult</th>\n",
       "      <th>backdrop_path</th>\n",
       "      <th>belongs_to_collection</th>\n",
       "      <th>budget</th>\n",
       "      <th>genres</th>\n",
       "      <th>homepage</th>\n",
       "      <th>id</th>\n",
       "      <th>original_language</th>\n",
       "      <th>original_title</th>\n",
       "      <th>...</th>\n",
       "      <th>runtime</th>\n",
       "      <th>spoken_languages</th>\n",
       "      <th>status</th>\n",
       "      <th>tagline</th>\n",
       "      <th>title</th>\n",
       "      <th>video</th>\n",
       "      <th>vote_average</th>\n",
       "      <th>vote_count</th>\n",
       "      <th>certification</th>\n",
       "      <th>year</th>\n",
       "    </tr>\n",
       "  </thead>\n",
       "  <tbody>\n",
       "    <tr>\n",
       "      <th>0</th>\n",
       "      <td>tt0113026</td>\n",
       "      <td>0.0</td>\n",
       "      <td>/vMFs7nw6P0bIV1jDsQpxAieAVnH.jpg</td>\n",
       "      <td>NaN</td>\n",
       "      <td>10000000.0</td>\n",
       "      <td>[{'id': 35, 'name': 'Comedy'}, {'id': 10402, '...</td>\n",
       "      <td>NaN</td>\n",
       "      <td>62127.0</td>\n",
       "      <td>en</td>\n",
       "      <td>The Fantasticks</td>\n",
       "      <td>...</td>\n",
       "      <td>86.0</td>\n",
       "      <td>[{'english_name': 'English', 'iso_639_1': 'en'...</td>\n",
       "      <td>Released</td>\n",
       "      <td>Try to remember the first time magic happened</td>\n",
       "      <td>The Fantasticks</td>\n",
       "      <td>0.0</td>\n",
       "      <td>5.4</td>\n",
       "      <td>21.0</td>\n",
       "      <td>NR</td>\n",
       "      <td>Neither 2018 nor 2020</td>\n",
       "    </tr>\n",
       "    <tr>\n",
       "      <th>1</th>\n",
       "      <td>tt0113092</td>\n",
       "      <td>0.0</td>\n",
       "      <td>NaN</td>\n",
       "      <td>NaN</td>\n",
       "      <td>0.0</td>\n",
       "      <td>[{'id': 878, 'name': 'Science Fiction'}]</td>\n",
       "      <td>NaN</td>\n",
       "      <td>110977.0</td>\n",
       "      <td>en</td>\n",
       "      <td>For the Cause</td>\n",
       "      <td>...</td>\n",
       "      <td>100.0</td>\n",
       "      <td>[{'english_name': 'English', 'iso_639_1': 'en'...</td>\n",
       "      <td>Released</td>\n",
       "      <td>The ultimate showdown on a forbidden planet.</td>\n",
       "      <td>For the Cause</td>\n",
       "      <td>0.0</td>\n",
       "      <td>4.4</td>\n",
       "      <td>7.0</td>\n",
       "      <td>NR</td>\n",
       "      <td>Neither 2018 nor 2020</td>\n",
       "    </tr>\n",
       "    <tr>\n",
       "      <th>2</th>\n",
       "      <td>tt0116391</td>\n",
       "      <td>0.0</td>\n",
       "      <td>NaN</td>\n",
       "      <td>NaN</td>\n",
       "      <td>0.0</td>\n",
       "      <td>[{'id': 18, 'name': 'Drama'}, {'id': 28, 'name...</td>\n",
       "      <td>NaN</td>\n",
       "      <td>442869.0</td>\n",
       "      <td>hi</td>\n",
       "      <td>Gang</td>\n",
       "      <td>...</td>\n",
       "      <td>152.0</td>\n",
       "      <td>[{'english_name': 'Hindi', 'iso_639_1': 'hi', ...</td>\n",
       "      <td>Released</td>\n",
       "      <td>NaN</td>\n",
       "      <td>Gang</td>\n",
       "      <td>0.0</td>\n",
       "      <td>0.0</td>\n",
       "      <td>0.0</td>\n",
       "      <td>NR</td>\n",
       "      <td>Neither 2018 nor 2020</td>\n",
       "    </tr>\n",
       "    <tr>\n",
       "      <th>3</th>\n",
       "      <td>tt0118694</td>\n",
       "      <td>0.0</td>\n",
       "      <td>/n4GJFGzsc7NinI1VeGDXIcQjtU2.jpg</td>\n",
       "      <td>NaN</td>\n",
       "      <td>150000.0</td>\n",
       "      <td>[{'id': 18, 'name': 'Drama'}, {'id': 10749, 'n...</td>\n",
       "      <td>http://www.wkw-inthemoodforlove.com/</td>\n",
       "      <td>843.0</td>\n",
       "      <td>cn</td>\n",
       "      <td>花樣年華</td>\n",
       "      <td>...</td>\n",
       "      <td>99.0</td>\n",
       "      <td>[{'english_name': 'Cantonese', 'iso_639_1': 'c...</td>\n",
       "      <td>Released</td>\n",
       "      <td>Feel the heat, keep the feeling burning, let t...</td>\n",
       "      <td>In the Mood for Love</td>\n",
       "      <td>0.0</td>\n",
       "      <td>8.1</td>\n",
       "      <td>1868.0</td>\n",
       "      <td>PG</td>\n",
       "      <td>Neither 2018 nor 2020</td>\n",
       "    </tr>\n",
       "    <tr>\n",
       "      <th>4</th>\n",
       "      <td>tt0118852</td>\n",
       "      <td>0.0</td>\n",
       "      <td>NaN</td>\n",
       "      <td>NaN</td>\n",
       "      <td>0.0</td>\n",
       "      <td>[{'id': 18, 'name': 'Drama'}]</td>\n",
       "      <td>NaN</td>\n",
       "      <td>49511.0</td>\n",
       "      <td>en</td>\n",
       "      <td>Chinese Coffee</td>\n",
       "      <td>...</td>\n",
       "      <td>99.0</td>\n",
       "      <td>[{'english_name': 'English', 'iso_639_1': 'en'...</td>\n",
       "      <td>Released</td>\n",
       "      <td>There's a fine line between friendship and bet...</td>\n",
       "      <td>Chinese Coffee</td>\n",
       "      <td>0.0</td>\n",
       "      <td>6.9</td>\n",
       "      <td>46.0</td>\n",
       "      <td>R</td>\n",
       "      <td>Neither 2018 nor 2020</td>\n",
       "    </tr>\n",
       "    <tr>\n",
       "      <th>...</th>\n",
       "      <td>...</td>\n",
       "      <td>...</td>\n",
       "      <td>...</td>\n",
       "      <td>...</td>\n",
       "      <td>...</td>\n",
       "      <td>...</td>\n",
       "      <td>...</td>\n",
       "      <td>...</td>\n",
       "      <td>...</td>\n",
       "      <td>...</td>\n",
       "      <td>...</td>\n",
       "      <td>...</td>\n",
       "      <td>...</td>\n",
       "      <td>...</td>\n",
       "      <td>...</td>\n",
       "      <td>...</td>\n",
       "      <td>...</td>\n",
       "      <td>...</td>\n",
       "      <td>...</td>\n",
       "      <td>...</td>\n",
       "      <td>...</td>\n",
       "    </tr>\n",
       "    <tr>\n",
       "      <th>60125</th>\n",
       "      <td>tt9895024</td>\n",
       "      <td>0.0</td>\n",
       "      <td>/S1kutYyoyuBJKGS0mXxv2fZNbr.jpg</td>\n",
       "      <td>NaN</td>\n",
       "      <td>0.0</td>\n",
       "      <td>[{'id': 18, 'name': 'Drama'}, {'id': 35, 'name...</td>\n",
       "      <td>NaN</td>\n",
       "      <td>834443.0</td>\n",
       "      <td>de</td>\n",
       "      <td>Heikos Welt</td>\n",
       "      <td>...</td>\n",
       "      <td>118.0</td>\n",
       "      <td>[{'english_name': 'German', 'iso_639_1': 'de',...</td>\n",
       "      <td>Released</td>\n",
       "      <td>NaN</td>\n",
       "      <td>Heiko's World</td>\n",
       "      <td>0.0</td>\n",
       "      <td>0.0</td>\n",
       "      <td>0.0</td>\n",
       "      <td>NR</td>\n",
       "      <td>Neither 2018 nor 2020</td>\n",
       "    </tr>\n",
       "    <tr>\n",
       "      <th>60126</th>\n",
       "      <td>tt9896876</td>\n",
       "      <td>0.0</td>\n",
       "      <td>/hMvRbT6HOqERhh3K8kXbaLz9LlZ.jpg</td>\n",
       "      <td>NaN</td>\n",
       "      <td>0.0</td>\n",
       "      <td>[{'id': 35, 'name': 'Comedy'}, {'id': 18, 'nam...</td>\n",
       "      <td>NaN</td>\n",
       "      <td>821493.0</td>\n",
       "      <td>en</td>\n",
       "      <td>India Sweets and Spices</td>\n",
       "      <td>...</td>\n",
       "      <td>101.0</td>\n",
       "      <td>[{'english_name': 'English', 'iso_639_1': 'en'...</td>\n",
       "      <td>Released</td>\n",
       "      <td>Let the aunties talk.</td>\n",
       "      <td>India Sweets and Spices</td>\n",
       "      <td>0.0</td>\n",
       "      <td>6.0</td>\n",
       "      <td>2.0</td>\n",
       "      <td>PG-13</td>\n",
       "      <td>Neither 2018 nor 2020</td>\n",
       "    </tr>\n",
       "    <tr>\n",
       "      <th>60127</th>\n",
       "      <td>tt9898844</td>\n",
       "      <td>0.0</td>\n",
       "      <td>/q2KFBGyUSzHDhNqXEYv2LqTWVSz.jpg</td>\n",
       "      <td>NaN</td>\n",
       "      <td>0.0</td>\n",
       "      <td>[{'id': 27, 'name': 'Horror'}]</td>\n",
       "      <td>NaN</td>\n",
       "      <td>870671.0</td>\n",
       "      <td>en</td>\n",
       "      <td>The Hunting</td>\n",
       "      <td>...</td>\n",
       "      <td>91.0</td>\n",
       "      <td>[{'english_name': 'English', 'iso_639_1': 'en'...</td>\n",
       "      <td>Released</td>\n",
       "      <td>Hunger runs deep.</td>\n",
       "      <td>The Hunting</td>\n",
       "      <td>0.0</td>\n",
       "      <td>4.9</td>\n",
       "      <td>20.0</td>\n",
       "      <td>NR</td>\n",
       "      <td>Neither 2018 nor 2020</td>\n",
       "    </tr>\n",
       "    <tr>\n",
       "      <th>60128</th>\n",
       "      <td>tt9900940</td>\n",
       "      <td>0.0</td>\n",
       "      <td>/3jjWLg5bevWqReyVroYqxwVrH0k.jpg</td>\n",
       "      <td>NaN</td>\n",
       "      <td>0.0</td>\n",
       "      <td>[{'id': 80, 'name': 'Crime'}, {'id': 18, 'name...</td>\n",
       "      <td>NaN</td>\n",
       "      <td>861294.0</td>\n",
       "      <td>en</td>\n",
       "      <td>The Scrapper</td>\n",
       "      <td>...</td>\n",
       "      <td>87.0</td>\n",
       "      <td>[{'english_name': 'English', 'iso_639_1': 'en'...</td>\n",
       "      <td>Released</td>\n",
       "      <td>You can't escape your past.</td>\n",
       "      <td>The Scrapper</td>\n",
       "      <td>0.0</td>\n",
       "      <td>6.0</td>\n",
       "      <td>2.0</td>\n",
       "      <td>NR</td>\n",
       "      <td>Neither 2018 nor 2020</td>\n",
       "    </tr>\n",
       "    <tr>\n",
       "      <th>60129</th>\n",
       "      <td>tt9907782</td>\n",
       "      <td>0.0</td>\n",
       "      <td>/gRTYArznK1MLAq7opC1tYHnTwM3.jpg</td>\n",
       "      <td>NaN</td>\n",
       "      <td>0.0</td>\n",
       "      <td>[{'id': 27, 'name': 'Horror'}, {'id': 14, 'nam...</td>\n",
       "      <td>NaN</td>\n",
       "      <td>630392.0</td>\n",
       "      <td>en</td>\n",
       "      <td>The Cursed</td>\n",
       "      <td>...</td>\n",
       "      <td>111.0</td>\n",
       "      <td>[{'english_name': 'English', 'iso_639_1': 'en'...</td>\n",
       "      <td>Released</td>\n",
       "      <td>NaN</td>\n",
       "      <td>The Cursed</td>\n",
       "      <td>0.0</td>\n",
       "      <td>7.0</td>\n",
       "      <td>55.0</td>\n",
       "      <td>R</td>\n",
       "      <td>Neither 2018 nor 2020</td>\n",
       "    </tr>\n",
       "  </tbody>\n",
       "</table>\n",
       "<p>60130 rows × 27 columns</p>\n",
       "</div>"
      ],
      "text/plain": [
       "         imdb_id  adult                     backdrop_path  \\\n",
       "0      tt0113026    0.0  /vMFs7nw6P0bIV1jDsQpxAieAVnH.jpg   \n",
       "1      tt0113092    0.0                               NaN   \n",
       "2      tt0116391    0.0                               NaN   \n",
       "3      tt0118694    0.0  /n4GJFGzsc7NinI1VeGDXIcQjtU2.jpg   \n",
       "4      tt0118852    0.0                               NaN   \n",
       "...          ...    ...                               ...   \n",
       "60125  tt9895024    0.0   /S1kutYyoyuBJKGS0mXxv2fZNbr.jpg   \n",
       "60126  tt9896876    0.0  /hMvRbT6HOqERhh3K8kXbaLz9LlZ.jpg   \n",
       "60127  tt9898844    0.0  /q2KFBGyUSzHDhNqXEYv2LqTWVSz.jpg   \n",
       "60128  tt9900940    0.0  /3jjWLg5bevWqReyVroYqxwVrH0k.jpg   \n",
       "60129  tt9907782    0.0  /gRTYArznK1MLAq7opC1tYHnTwM3.jpg   \n",
       "\n",
       "      belongs_to_collection      budget  \\\n",
       "0                       NaN  10000000.0   \n",
       "1                       NaN         0.0   \n",
       "2                       NaN         0.0   \n",
       "3                       NaN    150000.0   \n",
       "4                       NaN         0.0   \n",
       "...                     ...         ...   \n",
       "60125                   NaN         0.0   \n",
       "60126                   NaN         0.0   \n",
       "60127                   NaN         0.0   \n",
       "60128                   NaN         0.0   \n",
       "60129                   NaN         0.0   \n",
       "\n",
       "                                                  genres  \\\n",
       "0      [{'id': 35, 'name': 'Comedy'}, {'id': 10402, '...   \n",
       "1               [{'id': 878, 'name': 'Science Fiction'}]   \n",
       "2      [{'id': 18, 'name': 'Drama'}, {'id': 28, 'name...   \n",
       "3      [{'id': 18, 'name': 'Drama'}, {'id': 10749, 'n...   \n",
       "4                          [{'id': 18, 'name': 'Drama'}]   \n",
       "...                                                  ...   \n",
       "60125  [{'id': 18, 'name': 'Drama'}, {'id': 35, 'name...   \n",
       "60126  [{'id': 35, 'name': 'Comedy'}, {'id': 18, 'nam...   \n",
       "60127                     [{'id': 27, 'name': 'Horror'}]   \n",
       "60128  [{'id': 80, 'name': 'Crime'}, {'id': 18, 'name...   \n",
       "60129  [{'id': 27, 'name': 'Horror'}, {'id': 14, 'nam...   \n",
       "\n",
       "                                   homepage        id original_language  \\\n",
       "0                                       NaN   62127.0                en   \n",
       "1                                       NaN  110977.0                en   \n",
       "2                                       NaN  442869.0                hi   \n",
       "3      http://www.wkw-inthemoodforlove.com/     843.0                cn   \n",
       "4                                       NaN   49511.0                en   \n",
       "...                                     ...       ...               ...   \n",
       "60125                                   NaN  834443.0                de   \n",
       "60126                                   NaN  821493.0                en   \n",
       "60127                                   NaN  870671.0                en   \n",
       "60128                                   NaN  861294.0                en   \n",
       "60129                                   NaN  630392.0                en   \n",
       "\n",
       "                original_title  ... runtime  \\\n",
       "0              The Fantasticks  ...    86.0   \n",
       "1                For the Cause  ...   100.0   \n",
       "2                         Gang  ...   152.0   \n",
       "3                         花樣年華  ...    99.0   \n",
       "4               Chinese Coffee  ...    99.0   \n",
       "...                        ...  ...     ...   \n",
       "60125              Heikos Welt  ...   118.0   \n",
       "60126  India Sweets and Spices  ...   101.0   \n",
       "60127              The Hunting  ...    91.0   \n",
       "60128             The Scrapper  ...    87.0   \n",
       "60129               The Cursed  ...   111.0   \n",
       "\n",
       "                                        spoken_languages    status  \\\n",
       "0      [{'english_name': 'English', 'iso_639_1': 'en'...  Released   \n",
       "1      [{'english_name': 'English', 'iso_639_1': 'en'...  Released   \n",
       "2      [{'english_name': 'Hindi', 'iso_639_1': 'hi', ...  Released   \n",
       "3      [{'english_name': 'Cantonese', 'iso_639_1': 'c...  Released   \n",
       "4      [{'english_name': 'English', 'iso_639_1': 'en'...  Released   \n",
       "...                                                  ...       ...   \n",
       "60125  [{'english_name': 'German', 'iso_639_1': 'de',...  Released   \n",
       "60126  [{'english_name': 'English', 'iso_639_1': 'en'...  Released   \n",
       "60127  [{'english_name': 'English', 'iso_639_1': 'en'...  Released   \n",
       "60128  [{'english_name': 'English', 'iso_639_1': 'en'...  Released   \n",
       "60129  [{'english_name': 'English', 'iso_639_1': 'en'...  Released   \n",
       "\n",
       "                                                 tagline  \\\n",
       "0          Try to remember the first time magic happened   \n",
       "1           The ultimate showdown on a forbidden planet.   \n",
       "2                                                    NaN   \n",
       "3      Feel the heat, keep the feeling burning, let t...   \n",
       "4      There's a fine line between friendship and bet...   \n",
       "...                                                  ...   \n",
       "60125                                                NaN   \n",
       "60126                              Let the aunties talk.   \n",
       "60127                                  Hunger runs deep.   \n",
       "60128                        You can't escape your past.   \n",
       "60129                                                NaN   \n",
       "\n",
       "                         title video  vote_average  vote_count certification  \\\n",
       "0              The Fantasticks   0.0           5.4        21.0            NR   \n",
       "1                For the Cause   0.0           4.4         7.0            NR   \n",
       "2                         Gang   0.0           0.0         0.0            NR   \n",
       "3         In the Mood for Love   0.0           8.1      1868.0            PG   \n",
       "4               Chinese Coffee   0.0           6.9        46.0             R   \n",
       "...                        ...   ...           ...         ...           ...   \n",
       "60125            Heiko's World   0.0           0.0         0.0            NR   \n",
       "60126  India Sweets and Spices   0.0           6.0         2.0         PG-13   \n",
       "60127              The Hunting   0.0           4.9        20.0            NR   \n",
       "60128             The Scrapper   0.0           6.0         2.0            NR   \n",
       "60129               The Cursed   0.0           7.0        55.0             R   \n",
       "\n",
       "                        year  \n",
       "0      Neither 2018 nor 2020  \n",
       "1      Neither 2018 nor 2020  \n",
       "2      Neither 2018 nor 2020  \n",
       "3      Neither 2018 nor 2020  \n",
       "4      Neither 2018 nor 2020  \n",
       "...                      ...  \n",
       "60125  Neither 2018 nor 2020  \n",
       "60126  Neither 2018 nor 2020  \n",
       "60127  Neither 2018 nor 2020  \n",
       "60128  Neither 2018 nor 2020  \n",
       "60129  Neither 2018 nor 2020  \n",
       "\n",
       "[60130 rows x 27 columns]"
      ]
     },
     "execution_count": 61,
     "metadata": {},
     "output_type": "execute_result"
    }
   ],
   "source": [
    "# apply year() function to each entry in the 'year' column\n",
    "df['year'] = df['year'].apply(year)\n",
    "df"
   ]
  },
  {
   "cell_type": "code",
   "execution_count": 62,
   "id": "335f115a",
   "metadata": {},
   "outputs": [],
   "source": [
    "# selecting movies released only in 2018 and 2020\n",
    "years = ['2018', '2020']\n",
    "df_18_20 = df[df['year'].isin(years)]"
   ]
  },
  {
   "cell_type": "code",
   "execution_count": 63,
   "id": "2822ba0b",
   "metadata": {},
   "outputs": [
    {
     "name": "stderr",
     "output_type": "stream",
     "text": [
      "/var/folders/50/3xbvh4ss3131ch53yqb8sydr0000gn/T/ipykernel_44213/1121308061.py:7: UserWarning: FixedFormatter should only be used together with FixedLocator\n",
      "  g.set_yticklabels(ylabels)\n"
     ]
    },
    {
     "data": {
      "image/png": "[encoded data removed]",
      "text/plain": [
       "<Figure size 640x480 with 1 Axes>"
      ]
     },
     "metadata": {},
     "output_type": "display_data"
    }
   ],
   "source": [
    "g=sns.barplot(data=df_18_20, y='revenue', x='year')\n",
    "plt.title('Average Revenue earned between movies released in 2018 and 2020')\n",
    "plt.ylabel('Revenue')\n",
    "plt.xlabel('Year of Movie Release')\n",
    "plt.ticklabel_format(style='plain',axis='y')\n",
    "ylabels = ['$' + '{:,.0f}'.format(y) + 'M' for y in g.get_yticks()/1000000]\n",
    "g.set_yticklabels(ylabels)\n",
    "plt.show()"
   ]
  },
  {
   "cell_type": "code",
   "execution_count": 64,
   "id": "a5f24cee",
   "metadata": {},
   "outputs": [
    {
     "data": {
      "text/plain": [
       "year\n",
       "2018    6.938894e+06\n",
       "2020    1.434138e+06\n",
       "Name: revenue, dtype: float64"
      ]
     },
     "execution_count": 64,
     "metadata": {},
     "output_type": "execute_result"
    }
   ],
   "source": [
    "df_18_20.groupby('year')['revenue'].mean()"
   ]
  },
  {
   "cell_type": "markdown",
   "id": "36670607",
   "metadata": {},
   "source": [
    "On average, movies released in:\n",
    "- 2020 earned $1,434,186\n",
    "- 2018 earned \\$6,938,894"
   ]
  },
  {
   "cell_type": "code",
   "execution_count": null,
   "id": "e6989e49",
   "metadata": {},
   "outputs": [],
   "source": []
  }
 ],
 "metadata": {
  "kernelspec": {
   "display_name": "Python (dojo-env)",
   "language": "python",
   "name": "dojo-env"
  },
  "language_info": {
   "codemirror_mode": {
    "name": "ipython",
    "version": 3
   },
   "file_extension": ".py",
   "mimetype": "text/x-python",
   "name": "python",
   "nbconvert_exporter": "python",
   "pygments_lexer": "ipython3",
   "version": "3.9.15"
  },
  "toc": {
   "base_numbering": 1,
   "nav_menu": {},
   "number_sections": false,
   "sideBar": true,
   "skip_h1_title": false,
   "title_cell": "Table of Contents",
   "title_sidebar": "Contents",
   "toc_cell": false,
   "toc_position": {},
   "toc_section_display": true,
   "toc_window_display": false
  }
 },
 "nbformat": 4,
 "nbformat_minor": 5
}
